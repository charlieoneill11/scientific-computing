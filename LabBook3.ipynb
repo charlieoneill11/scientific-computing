{
 "cells": [
  {
   "cell_type": "markdown",
   "id": "32773e52-94a7-4cb7-842d-d7ce42dbbefa",
   "metadata": {},
   "source": [
    "# Lab Book 3"
   ]
  },
  {
   "cell_type": "code",
   "execution_count": 225,
   "id": "64f3169b-4c27-4afb-9f48-9ffae63bf01c",
   "metadata": {},
   "outputs": [],
   "source": [
    "# imports\n",
    "import math\n",
    "import numpy as np\n",
    "import pandas as pd\n",
    "import matplotlib.pyplot as plt\n",
    "import scipy"
   ]
  },
  {
   "cell_type": "markdown",
   "id": "03fef71b-ac79-43eb-8cf1-fb3dc5731f79",
   "metadata": {},
   "source": [
    "## Question 1\n",
    "Using `float_info` for the float data type (double precision), what is: (a) the largest\n",
    "positive finite machine number; (b) the largest (in absolute value) negative finite machine number; (c) the\n",
    "smallest positive machine number? You may need to read the documentation of `np.finfo`."
   ]
  },
  {
   "cell_type": "code",
   "execution_count": 226,
   "id": "30eaac9d-ece5-46d0-a784-bf07afce08d3",
   "metadata": {},
   "outputs": [
    {
     "name": "stdout",
     "output_type": "stream",
     "text": [
      "2.220446049250313e-16\n"
     ]
    }
   ],
   "source": [
    "# Get floating-point information for default float data type\n",
    "float_info = np.finfo(float)\n",
    "# Machine epsilon\n",
    "print(float_info.eps)"
   ]
  },
  {
   "cell_type": "code",
   "execution_count": 227,
   "id": "cea15d48-c670-49fb-99b5-819c85d93355",
   "metadata": {},
   "outputs": [
    {
     "name": "stdout",
     "output_type": "stream",
     "text": [
      "1.7976931348623157e+308\n"
     ]
    }
   ],
   "source": [
    "# largest positive finite machine number\n",
    "print(float_info.max)"
   ]
  },
  {
   "cell_type": "code",
   "execution_count": 228,
   "id": "7a0e1a50-e9b6-45b8-823b-d1d69adb30c3",
   "metadata": {},
   "outputs": [
    {
     "name": "stdout",
     "output_type": "stream",
     "text": [
      "-1.7976931348623157e+308\n"
     ]
    }
   ],
   "source": [
    "# largest (in absolute value) negative machine number\n",
    "print(float_info.min)"
   ]
  },
  {
   "cell_type": "code",
   "execution_count": 229,
   "id": "e467cee0-f4f4-4e19-b3f8-1a03668c8db5",
   "metadata": {},
   "outputs": [
    {
     "name": "stdout",
     "output_type": "stream",
     "text": [
      "2.220446049250313e-16\n"
     ]
    }
   ],
   "source": [
    "# smallest positive machine number\n",
    "print(float_info.eps)"
   ]
  },
  {
   "cell_type": "markdown",
   "id": "edc507ea-0331-41e2-b208-6488da48d6ca",
   "metadata": {},
   "source": [
    "## Question 2\n",
    "Find an example where `math.sin` or `math.cos` produces the wrong answer. How close is\n",
    "Python’s calculation to the true value? Find an example where `math.sin` or `math.cos` produces exactly\n",
    "the right answer."
   ]
  },
  {
   "cell_type": "markdown",
   "id": "a17e253a-fb4d-4a1e-b7b8-badc45d2e8e1",
   "metadata": {},
   "source": [
    "We know that the roots of the $\\sin$ function are multiplies of $\\pi$. Here, the `math.sin` function produces a small positive number as the evaluation of $\\sin(\\pi)$. Since the true answer is 0, the error in the evaluation is the absolute value of the evaluation. Whilst wrong, `math` does have a very small error (very small absolute value). "
   ]
  },
  {
   "cell_type": "code",
   "execution_count": 230,
   "id": "85999bdf-b732-4fb2-9df1-efef78659407",
   "metadata": {},
   "outputs": [
    {
     "data": {
      "text/plain": [
       "1.2246467991473532e-16"
      ]
     },
     "execution_count": 230,
     "metadata": {},
     "output_type": "execute_result"
    }
   ],
   "source": [
    "# example where trig function produces the wrong answer\n",
    "math.sin(math.pi)"
   ]
  },
  {
   "cell_type": "markdown",
   "id": "b99de07e-8f4f-4977-a95a-19ae4b548fc2",
   "metadata": {},
   "source": [
    "However, `math` returns the correct answer when passing in 0."
   ]
  },
  {
   "cell_type": "code",
   "execution_count": 231,
   "id": "d85721ba-30c1-4037-ab15-90c734b26333",
   "metadata": {},
   "outputs": [
    {
     "data": {
      "text/plain": [
       "0.0"
      ]
     },
     "execution_count": 231,
     "metadata": {},
     "output_type": "execute_result"
    }
   ],
   "source": [
    "# example where trig function produces exactly the right answer\n",
    "math.sin(0)"
   ]
  },
  {
   "cell_type": "markdown",
   "id": "375b69cc-1b45-4c0d-a8e2-2c7c1682fb10",
   "metadata": {},
   "source": [
    "## Question 3\n",
    "Evaluate $f(x)$ for $x = 10^{−2}, 10^{−3}, ...$ and compare your answer to the Taylor series. Comment on what you observe. Then find a better—but mathematically equivalent—way to evaluate $f(x)$. Check your new code is an improvement by comparing it to the Taylor series."
   ]
  },
  {
   "cell_type": "code",
   "execution_count": 232,
   "id": "4e9e23af-baf8-4b79-b8a1-ef8d723349a1",
   "metadata": {},
   "outputs": [],
   "source": [
    "def f(x): return (np.cos(2*x)-1)/x**2\n",
    "def taylor_f(x): return -2 + (2*(x**2))/3"
   ]
  },
  {
   "cell_type": "code",
   "execution_count": 233,
   "id": "34153fe5-c3d7-4e6d-b20c-6aa2786d99eb",
   "metadata": {},
   "outputs": [
    {
     "data": {
      "text/plain": [
       "(array([-1.99993333, -1.99999933, -1.99999999, -2.00000017, -1.99995576,\n",
       "        -1.99840144, -2.22044605,  0.        ,  0.        ,  0.        ,\n",
       "         0.        ,  0.        ,  0.        ]),\n",
       " array([-1.99993333, -1.99999933, -1.99999999, -2.        , -2.        ,\n",
       "        -2.        , -2.        , -2.        , -2.        , -2.        ,\n",
       "        -2.        , -2.        , -2.        ]))"
      ]
     },
     "execution_count": 233,
     "metadata": {},
     "output_type": "execute_result"
    }
   ],
   "source": [
    "# define our x to evaluate\n",
    "t = np.array([10**(-i) for i in range(2, 15)])\n",
    "# evaluate it using our function definition\n",
    "f_t = f(t)\n",
    "# evaluate using Taylor series approximation\n",
    "taylor_t = taylor_f(t)\n",
    "# determine if they are equivalent\n",
    "f_t, taylor_t"
   ]
  },
  {
   "cell_type": "markdown",
   "id": "dbc1385c-4c3f-40bb-b759-1caaa0744b79",
   "metadata": {},
   "source": [
    "Here, as $x \\rightarrow 0$, the $f(x)$ is initially close to ‑2 but then just breaks and returns 0. In contrast, the Taylor series approaches -2, which is the correct . The Taylor series approaches ‑2 (which is the correct limit $\\lim_{x\\rightarrow 0} f(x)$). The reason this occurs is catastrophic cancellation: since $\\cos(2x) \\to 1$, we subtract numbers whose relative difference is small compared to their magnitude. \n",
    "\n",
    "To avoid this, we express $f(x)$ differenly using double angle identities꞉ $$ \\begin{aligned} f(x) &= \\frac{\\left(1‑\\sin^2(x)\\right)‑1}\n",
    "{x^2}\\\\[2ex] &=\\frac{‑\\sin^2(x)}{x^2} \\end{aligned} $$ \n",
    "\n",
    "We now define the revised function and evaluate on the same points꞉"
   ]
  },
  {
   "cell_type": "code",
   "execution_count": 234,
   "id": "79112712-838b-4c6c-ae2d-c4aa0fb9e960",
   "metadata": {},
   "outputs": [
    {
     "data": {
      "text/plain": [
       "array([-1.99993333, -1.99999933, -1.99999999, -2.        , -2.        ,\n",
       "       -2.        , -2.        , -2.        , -2.        , -2.        ,\n",
       "       -2.        , -2.        , -2.        ])"
      ]
     },
     "execution_count": 234,
     "metadata": {},
     "output_type": "execute_result"
    }
   ],
   "source": [
    "def f_2(x):\n",
    "    return (-2*(np.sin(x))**2)/(x**2)\n",
    "f_2_t = f_2(t)\n",
    "f_2_t"
   ]
  },
  {
   "cell_type": "markdown",
   "id": "0fd603e7-d7c0-461a-9968-f33595c477a1",
   "metadata": {},
   "source": [
    "These seem to better approach the true function value -2. We can confirm this using `np.allclose`:"
   ]
  },
  {
   "cell_type": "code",
   "execution_count": 235,
   "id": "028f3910-b5a4-4514-b23b-b6a2b20c9449",
   "metadata": {},
   "outputs": [
    {
     "data": {
      "text/plain": [
       "True"
      ]
     },
     "execution_count": 235,
     "metadata": {},
     "output_type": "execute_result"
    }
   ],
   "source": [
    "np.allclose(f_2_t, taylor_t)"
   ]
  },
  {
   "cell_type": "markdown",
   "id": "896bd9e8-91fe-4154-b5db-0f3823faac89",
   "metadata": {},
   "source": [
    "## Question 4\n",
    "Look up the documentation of the function `math.expm1` and test it against the ‘obvious’ implementation using `math.exp` and a suitable Taylor series expansion. Comment on your results."
   ]
  },
  {
   "cell_type": "markdown",
   "id": "329d35e2-9dc4-43f1-a2f2-f44de84438f0",
   "metadata": {},
   "source": [
    "First, we define the Taylor series expansion of the function using $x^n/n!$ and instantiate the points to evaluate at:"
   ]
  },
  {
   "cell_type": "code",
   "execution_count": 236,
   "id": "3927c3f3-3cf5-4884-bea2-cdfe3a401006",
   "metadata": {},
   "outputs": [],
   "source": [
    "def taylor(x):\n",
    "    return x + (x**2)/2\n",
    "\n",
    "def f(x): return math.exp(x) - 1\n",
    "\n",
    "t = 10 ** (-np.linspace(2, 16, 15))"
   ]
  },
  {
   "cell_type": "code",
   "execution_count": 237,
   "id": "5b9f2a14-dabf-4652-9974-14eebb5278c8",
   "metadata": {},
   "outputs": [],
   "source": [
    "expm1_t = np.array(list(map(math.expm1, t)))\n",
    "exp_t = np.array(list(map(f, t)))\n",
    "taylor_t = np.array(taylor(t))"
   ]
  },
  {
   "cell_type": "markdown",
   "id": "8d6570b8-5b49-4b8a-8218-2d8436c6075a",
   "metadata": {},
   "source": [
    "Looking at these arrays, we see that the Taylor series and `expm1` both approach the correct evaluation as the value passed in to the function decreases. However, due to catastrophic cancellation, the actual `exp` function that evaluates and then subtracts 1 fluctuates away from the true values:"
   ]
  },
  {
   "cell_type": "code",
   "execution_count": 238,
   "id": "f059435f-1272-4465-930b-e5cccb9f6c4e",
   "metadata": {},
   "outputs": [
    {
     "data": {
      "text/plain": [
       "(array([1.00500000e-02, 1.00050000e-03, 1.00005000e-04, 1.00000500e-05,\n",
       "        1.00000050e-06, 1.00000005e-07, 1.00000000e-08, 1.00000000e-09,\n",
       "        1.00000000e-10, 1.00000000e-11, 1.00000000e-12, 1.00000000e-13,\n",
       "        1.00000000e-14, 1.00000000e-15, 1.00000000e-16]),\n",
       " array([1.00501671e-02, 1.00050017e-03, 1.00005000e-04, 1.00000500e-05,\n",
       "        1.00000050e-06, 1.00000005e-07, 9.99999994e-09, 1.00000008e-09,\n",
       "        1.00000008e-10, 1.00000008e-11, 1.00008890e-12, 9.99200722e-14,\n",
       "        9.99200722e-15, 1.11022302e-15, 0.00000000e+00]),\n",
       " array([1.00501671e-02, 1.00050017e-03, 1.00005000e-04, 1.00000500e-05,\n",
       "        1.00000050e-06, 1.00000005e-07, 1.00000001e-08, 1.00000000e-09,\n",
       "        1.00000000e-10, 1.00000000e-11, 1.00000000e-12, 1.00000000e-13,\n",
       "        1.00000000e-14, 1.00000000e-15, 1.00000000e-16]))"
      ]
     },
     "execution_count": 238,
     "metadata": {},
     "output_type": "execute_result"
    }
   ],
   "source": [
    "taylor_t, exp_t, expm1_t"
   ]
  },
  {
   "cell_type": "markdown",
   "id": "72f1773f-896f-4224-a08c-0b3f57aa5137",
   "metadata": {},
   "source": [
    "## Question 5\n",
    "By editing the code template below, use both approximations to estimate $f'(1)$ for the function $f(x) = e^x − \\cos(x)$, for decreasing values of $h$. Estimate the order of convergence of both methods by plotting the approximation error (compared to the analytic derivative) against $h$. Comment on what you observe."
   ]
  },
  {
   "cell_type": "code",
   "execution_count": 273,
   "id": "9fe320e8-b1f3-489f-be7b-1c4b08a72582",
   "metadata": {},
   "outputs": [],
   "source": [
    "# begin by defining f(x)\n",
    "def f(x):\n",
    "    return np.exp(x) - np.cos(x)\n",
    "\n",
    "# evaluate function and it's derivative\n",
    "f_1 = f(1)\n",
    "df_1 = np.exp(1) + np.sin(1)"
   ]
  },
  {
   "cell_type": "markdown",
   "id": "4294f4be-32c1-4edb-90c9-484c47553daf",
   "metadata": {},
   "source": [
    "Now we can find the approximation error for decreasing values of $h$. To find the each forward error and central error by subtracting the true value from the estimate꞉ \n",
    "\n",
    "$$ \\begin{aligned} \\text{Forward Error} &= \\left\\vert \\frac{f(x+h)-f(x)}h - f'(x)\\right\\vert & \n",
    "\\text{Central Error} &= \\left\\vert \\frac{f(x+h)-f(x-h)}{2h} - f'(x)\\right\\vert \\end{aligned}\n",
    "$$"
   ]
  },
  {
   "cell_type": "code",
   "execution_count": 274,
   "id": "74d613b6-c9ae-48dd-953f-72fea1891ddd",
   "metadata": {},
   "outputs": [],
   "source": [
    "# shrink interval consecutively\n",
    "hs = 2**(-np.linspace(0,30,128))\n",
    "forward_error = np.zeros((len(hs),)) # error array for FD\n",
    "central_error = np.zeros((len(hs),)) # error array for CD\n",
    "for i in range(len(hs)):\n",
    "    h = hs[i] # current interval width\n",
    "    forward_error[i] = np.abs(((f(1+h) - f1)/h) - df1)\n",
    "    central_error[i] = np.abs(((f(1+h) - f(1-h))/(2*h)) - df1)"
   ]
  },
  {
   "cell_type": "markdown",
   "id": "39ccfed9-9371-443b-90f7-64a0c28710bb",
   "metadata": {},
   "source": [
    "We use a log-log plot to see how to error decreases:"
   ]
  },
  {
   "cell_type": "code",
   "execution_count": 276,
   "id": "15dfb2e3-8f82-41f7-bde4-20cb6f8bb66a",
   "metadata": {},
   "outputs": [
    {
     "data": {
      "image/png": "[encoded data removed]",
      "text/plain": [
       "<Figure size 432x288 with 1 Axes>"
      ]
     },
     "metadata": {
      "needs_background": "light"
     },
     "output_type": "display_data"
    }
   ],
   "source": [
    "fo_r, so_r = hs, hs**2 # order rates\n",
    "def plot_log_log_error(fo_r, so_r, second_div=False):\n",
    "    plt.figure()\n",
    "    plt.clf()\n",
    "    plt.loglog(hs, fo_r, color = 'black', linestyle = '--', label = \"O(h)\")\n",
    "    plt.plot(hs, so_r, color = 'red', linestyle = '--', label = \"O(h**2)\")\n",
    "    if second_div:\n",
    "        plt.scatter(hs ,second_derivative_errors, s = 2, label = 'Approximation error')\n",
    "    else:\n",
    "        plt.scatter(hs, central_error, s = 2, label = 'Central Error')\n",
    "        plt.scatter(hs, forward_error, s = 2, label = 'Forward Error')\n",
    "    plt.legend(loc = 'best')\n",
    "    plt.gca().invert_xaxis()\n",
    "    plt.title('Approximation error of f\\'(x)')\n",
    "    plt.xlabel('h')\n",
    "    plt.ylabel('Error')\n",
    "    plt.show()\n",
    "    \n",
    "plot_log_log_error(fo_r, so_r)"
   ]
  },
  {
   "cell_type": "markdown",
   "id": "c5190248-7b4b-48df-b55a-ae59050c8d70",
   "metadata": {},
   "source": [
    "Obviously, central difference is the faster convering method. Forward and central difference methods have linear and quadratic convergence, respectively. Using the same number of evaluations, we achieve a much more accurate answer using central differencing. However, when the step size grows too small, we see that both methods lose accuracy due to floating point errors. Indeed, the central difference method begins to lose accuracy due to this much sooner (because of the further division of the interval $h$). Despite this, we see that we can still achieve higher accuracy with central differencing, despite it losing accuracy due to floating point error before forward differencing."
   ]
  },
  {
   "cell_type": "markdown",
   "id": "bde03ffe-3695-43da-b9f9-eeb1f7442b26",
   "metadata": {},
   "source": [
    "## Question 6\n",
    "Implement the second derivative estimation method from lectures to estimate $f′′(1)$. Estimate the order of convergence by producing a plot similar to the above. "
   ]
  },
  {
   "cell_type": "markdown",
   "id": "dbad59da-103e-44e4-8239-d1622448ccfe",
   "metadata": {},
   "source": [
    "Our approximation for the second derivative, for appropriately small $h$ is꞉ \n",
    "$$ f''(x) \\approx \\frac{f(x+h) - 2*f(x) + f(x-h)}{2h} $$\n",
    "Let's use $h=-3$:"
   ]
  },
  {
   "cell_type": "code",
   "execution_count": 242,
   "id": "9b4a53ff-429c-438b-903c-0e06c08942e5",
   "metadata": {},
   "outputs": [
    {
     "data": {
      "text/plain": [
       "3.258584315712909"
      ]
     },
     "execution_count": 242,
     "metadata": {},
     "output_type": "execute_result"
    }
   ],
   "source": [
    "h = 10**(-3)\n",
    "second_derivative_estimate = (f(1+h) - 2*f1 + f(1-h)) / (h**2)\n",
    "second_derivative_estimate"
   ]
  },
  {
   "cell_type": "markdown",
   "id": "9eaf2d90-55ac-4c17-96cf-1ed452d39dcb",
   "metadata": {},
   "source": [
    "Analytically deriving the second derivative gives $ f''(x) = e^1 + \\cos(1) \\approx 3.259 $, and so our estimate appears appropriate. We now use a for loop to progressively estimate values of the second derivative:"
   ]
  },
  {
   "cell_type": "code",
   "execution_count": 243,
   "id": "339bcfd1-5ba7-4205-8e76-a38f175ecdff",
   "metadata": {},
   "outputs": [],
   "source": [
    "true_sd = np.exp(1) + np.cos(1)\n",
    "sd_errors = np.zeros((len(hs),))\n",
    "\n",
    "for i in range(len(hs)):\n",
    "    h = hs[i] # current interval size\n",
    "    estimate = (f(1+h) - 2*f1 + f(1-h)) / (h**2)\n",
    "    sd_errors[i] = np.abs(true_sd - estimate)"
   ]
  },
  {
   "cell_type": "markdown",
   "id": "641685d2-4634-4e35-b5e3-0673b5a4c0f8",
   "metadata": {},
   "source": [
    "We use our function defined above to plot the log-log error:"
   ]
  },
  {
   "cell_type": "code",
   "execution_count": 244,
   "id": "fb96b03f-04d3-4d77-82c1-71b7c81a498d",
   "metadata": {},
   "outputs": [
    {
     "data": {
      "image/png": "[encoded data removed]",
      "text/plain": [
       "<Figure size 432x288 with 1 Axes>"
      ]
     },
     "metadata": {
      "needs_background": "light"
     },
     "output_type": "display_data"
    }
   ],
   "source": [
    "plot_log_log_error(fo_r, so_r, second_div=True)"
   ]
  },
  {
   "cell_type": "markdown",
   "id": "4352e7a8-58a8-4dac-94d3-a061a83578f2",
   "metadata": {},
   "source": [
    "Whilst the approximation error follows quadratic convergence (which matches the theoretical result shown in lectures) we see that it begins to lose accuracy due to floating point error when the step size $h$ is approximately $10^{-3}$. "
   ]
  },
  {
   "cell_type": "markdown",
   "id": "5666d3a4-8a13-4cbf-86b2-a4ba0243b48d",
   "metadata": {},
   "source": [
    "## Question 7\n",
    "Rewrite `riemann_sum` using NumPy array operations, so that it does not have any loops, but still works for non-equally spaced nodes (you will need to use slicing from Lab 1). Use your new code to approximate $\\int^1_{-1} e^{−x}dx$, and (with reference to theory from lectures) compare your approximation to the true value of the integral for increasing values of $n$ and comment on your results. "
   ]
  },
  {
   "cell_type": "code",
   "execution_count": 245,
   "id": "4949fde6-02ef-4e62-8b38-593bb4c4a934",
   "metadata": {},
   "outputs": [],
   "source": [
    "def riemann_sum(xdata, ydata):\n",
    "    \"\"\"\n",
    "    Approximate an integral using Riemann sums, based on evaluated\n",
    "    function values (x0,y0), ..., (xn, yn).\n",
    "    Inputs xdata and ydata are (xi,yi), both vectors of length n+1\n",
    "    \"\"\"\n",
    "    n = len(xdata) - 1\n",
    "    if len(ydata) != n+1:\n",
    "        print(\"Lengths of xdata and ydata do not match\")\n",
    "        return np.nan\n",
    "    # calculate Riemann sum\n",
    "    approx_integral = np.sum((xdata[1:] - xdata[:-1]) * ydata[:-1])\n",
    "    return approx_integral"
   ]
  },
  {
   "cell_type": "markdown",
   "id": "da2bde49-2e64-457f-ba2b-ec38f0901b28",
   "metadata": {},
   "source": [
    "Here, we deal with the lengths of `xdata` and `ydata` being different by returning `np.nan`. Whilst this prevents an error being returned, perhaps a more sensible choice would be throwing an exception, as Numpy can still perform some calculations with `nan` values, and this might leave the mismatched data unnoticed if no error or exception is thrown. \n",
    "\n",
    "We now define the function and evaluate its integral."
   ]
  },
  {
   "cell_type": "code",
   "execution_count": 246,
   "id": "e4e40d56-d017-4e32-a305-bd8efb035f36",
   "metadata": {},
   "outputs": [
    {
     "data": {
      "text/plain": [
       "2.3527559274667316"
      ]
     },
     "execution_count": 246,
     "metadata": {},
     "output_type": "execute_result"
    }
   ],
   "source": [
    "def f(x): return np.exp(-x)\n",
    "xs = np.linspace(-1, 1, 1000)\n",
    "ys = f(xs)\n",
    "integral_estimate = riemann_sum(xs, ys)\n",
    "integral_estimate"
   ]
  },
  {
   "cell_type": "markdown",
   "id": "e464b38e-87c5-4f3b-a91e-7ac7d6713f2d",
   "metadata": {},
   "source": [
    "Calculating the integral analytically, we get $\\int_{‑1}^1 e^{‑x}xdx = e^1 ‑ e^{‑1} \\approx 2.350 $, signifying that our Riemann sum is a good estimate. We now calculate the error for our approximation as the number of function evaluations $n$ increases: "
   ]
  },
  {
   "cell_type": "code",
   "execution_count": 247,
   "id": "ba988db8-4129-4605-9100-6bd36068ed4b",
   "metadata": {},
   "outputs": [],
   "source": [
    "n_array = 2**(np.arange(2,20)) # increasing series of function evaluations\n",
    "integral_errors = np.zeros(len(ns),) # error array\n",
    "true_int = np.exp(1) - np.exp(-1) # analytic integral value\n",
    "for i in range(len(n_array)):\n",
    "    n = n_array[i] # number of func evals\n",
    "    xs = np.linspace(-1, 1, n+1) \n",
    "    ys = f(xs) \n",
    "    estimate = riemann_sum(xs, ys) \n",
    "    integral_errors[i] = np.abs(estimate-true_int) # approximation error"
   ]
  },
  {
   "cell_type": "markdown",
   "id": "52556790-4913-4087-9098-9df39abebde4",
   "metadata": {},
   "source": [
    "We now plot the approximation error as our number of function evaluations $n$ increases. Since our interval width is $\\frac2n$ (our whole interval has width 2), we can also plot the converging series $\\mathcal O (h)$ and $\\mathcal O\\left(h^2\\right)$."
   ]
  },
  {
   "cell_type": "code",
   "execution_count": 248,
   "id": "aa857a77-0eba-4e43-a3ac-ad4ac8f3b2d2",
   "metadata": {},
   "outputs": [
    {
     "data": {
      "image/png": "[encoded data removed]",
      "text/plain": [
       "<Figure size 432x288 with 1 Axes>"
      ]
     },
     "metadata": {
      "needs_background": "light"
     },
     "output_type": "display_data"
    }
   ],
   "source": [
    "fo_rate, so_rate = 2/n_array, (2/n_array)**2\n",
    "plt.figure()\n",
    "plt.clf()\n",
    "plt.loglog(n_array, fo_rate, color = 'black', linestyle = '--',\n",
    "label = \"O(h)\")\n",
    "plt.plot(n_array, so_rate, color = 'red', linestyle = '--',\n",
    "label = \"O(h^2)\")\n",
    "plt.scatter(n_array, integral_errors, s = 10, label = 'Approximation error')\n",
    "plt.legend(loc = 'best')\n",
    "plt.title('Error in approximating $\\int_{‑1}^1e^{‑x}dx$ using Riemann Sum')\n",
    "plt.xlabel('n')\n",
    "plt.ylabel('Error')\n",
    "plt.show()"
   ]
  },
  {
   "cell_type": "markdown",
   "id": "4ec6ca42-598c-4f07-b3e5-d4b06e8a04ae",
   "metadata": {},
   "source": [
    "We conclude from this plot that Riemann sums have linear convergence, as shown in lectures. The reason for the relatively poor convergence is the fact that Riemann sums approximate the function between interval points with a constant function. Using better function evaluations (such as polynomials or even just linear functions) will result in faster convergence. Thus, the composite trapezoidal rule below should have faster convergence. Despite this, the Riemann sums are guaranteed to converge to the correct integral as $h \\to 0$, as our function $f$ is continuous (this is a key result in analysis)."
   ]
  },
  {
   "cell_type": "markdown",
   "id": "86b22628-41da-4e86-8ec0-51725121005f",
   "metadata": {
    "tags": []
   },
   "source": [
    "## Question 8\n",
    "Using `riemann_sum` as a starting point, write a function which implements the composite trapezoidal rule which works for non-equally spaced nodes (without using ‘for’ loops). Compare the accuracy of the trapezoidal rule to left Riemann sums and comment on what you observe. "
   ]
  },
  {
   "cell_type": "markdown",
   "id": "d650862c-d3b9-4522-bd0c-8a7842bbc3ca",
   "metadata": {},
   "source": [
    "Using the function template from above, with exception handling for the case where the lengths of the evaluation points and evaluations don't match, we get the `composite_trapezoidal` function: "
   ]
  },
  {
   "cell_type": "code",
   "execution_count": 249,
   "id": "5f4c10fe-ccf1-4b09-84da-767fdb86841f",
   "metadata": {
    "tags": []
   },
   "outputs": [],
   "source": [
    "def composite_trapezoidal(xdata, ydata):\n",
    "    \"\"\"\n",
    "    Approximate an integral using the composite trapezoidal rule, based on\n",
    "    evaluated function values (x0,y0), ..., (xn, yn).\n",
    "    Inputs xdata and ydata are (xi,yi), both vectors of length n+1\n",
    "    \"\"\"\n",
    "    n = len(xdata) - 1\n",
    "    if len(ydata) != n+1:\n",
    "        print(\"Lengths of xdata and ydata do not match\")\n",
    "        return np.nan\n",
    "    # trap sum\n",
    "    hlist = xdata[1:] - xdata[:-1]\n",
    "    approx_integral = (np.sum((ydata[:-1] + ydata[1:]) * hlist))/2\n",
    "    return approx_integral"
   ]
  },
  {
   "cell_type": "code",
   "execution_count": 250,
   "id": "3c127d74-08b2-469f-9350-335ac5949427",
   "metadata": {},
   "outputs": [
    {
     "data": {
      "text/plain": [
       "2.3504031723243015"
      ]
     },
     "execution_count": 250,
     "metadata": {},
     "output_type": "execute_result"
    }
   ],
   "source": [
    "xs = np.linspace(-1, 1, 1000)\n",
    "ys = f(xs)\n",
    "trap_integral_estimate = composite_trapezoidal(xs, ys)\n",
    "trap_integral_estimate"
   ]
  },
  {
   "cell_type": "markdown",
   "id": "22b33051-6239-4ac7-a33f-05318c5073b4",
   "metadata": {},
   "source": [
    "Comparing to our Riemann sum from above and the true theoretical value, we see that the composite trapezoidal rule also gives an answer that is approximately 2.350. We know calculate the error in our approximations as we use more and more evaluation points (the interval length shortens, or $n$ increases):"
   ]
  },
  {
   "cell_type": "code",
   "execution_count": 251,
   "id": "a38da080-eeea-42d8-a4b6-0f25a1c544fb",
   "metadata": {},
   "outputs": [],
   "source": [
    "trap_errors = np.zeros((len(ns),))\n",
    "for i in range(len(ns)):\n",
    "    n = ns[i] # current number of evaluations\n",
    "    xs = np.linspace(-1, 1, n+1) # equally spaced points\n",
    "    ys = f(xs)\n",
    "    estimate = composite_trapezoidal(xs, ys)\n",
    "    trap_errors[i] = np.abs(estimate - true_int)"
   ]
  },
  {
   "cell_type": "markdown",
   "id": "3a88f133-90ae-4bc0-bc6a-78bfd539ec78",
   "metadata": {},
   "source": [
    "Plotting the results:"
   ]
  },
  {
   "cell_type": "code",
   "execution_count": 252,
   "id": "1565846e-928b-459d-a420-186ce66f13e0",
   "metadata": {},
   "outputs": [
    {
     "data": {
      "image/png": "[encoded data removed]",
      "text/plain": [
       "<Figure size 432x288 with 1 Axes>"
      ]
     },
     "metadata": {
      "needs_background": "light"
     },
     "output_type": "display_data"
    }
   ],
   "source": [
    "plt.figure()\n",
    "plt.loglog(ns, fo_rate, color = 'black', linestyle = '--', label = \"O(h)\")\n",
    "plt.loglog(ns, so_rate, color = 'red', linestyle = '--', label = \"O(h^2)\")\n",
    "plt.scatter(ns, integral_errors, s = 10,\n",
    "label = 'Approximation error (Riemann Sums)')\n",
    "plt.scatter(ns, trap_integral_errors, s = 10,\n",
    "label = 'Approximation error (trapezoidal rule)')\n",
    "plt.legend(loc = 'best')\n",
    "plt.title('Approximation error for $\\int_{‑1}^1e^xdx$')\n",
    "plt.xlabel('n')\n",
    "plt.ylabel('Error')\n",
    "plt.show()"
   ]
  },
  {
   "cell_type": "markdown",
   "id": "e9a251a8-07f2-45a4-9676-1874fdbdfad6",
   "metadata": {},
   "source": [
    "So we see that using the composite trapezoidal rule has quadratic convergence to the true integral, whereas Riemann sums only has linear convergence. The composite trapezoidal rule will converge to the true function value much faster."
   ]
  },
  {
   "cell_type": "markdown",
   "id": "fe1dfcde-340e-40da-9d9b-f4bf8e1879f7",
   "metadata": {
    "tags": []
   },
   "source": [
    "## Question 9\n",
    "Use Simpson’s rule and Gaussian quadrature (both with 20 points) to calculate the integral\n",
    "of Runge’s function,\n",
    "$$\n",
    "\\int_{-1}^1 \\frac{1}{1+25x^2}dx = \\frac{\\tan^{-1}(5) - \\tan^{-1}(-5)}{5} \\approx 0.549\n",
    "$$\n",
    "and compare the results."
   ]
  },
  {
   "cell_type": "markdown",
   "id": "f62dca60-f7af-47db-8374-96c16069680c",
   "metadata": {},
   "source": [
    "Using the analytical solution of the integral, we see that the true integral is equal to $\\approx 0.54936$. "
   ]
  },
  {
   "cell_type": "code",
   "execution_count": 253,
   "id": "969a0fe5-166b-4b77-843e-43b62013174b",
   "metadata": {},
   "outputs": [
    {
     "data": {
      "text/plain": [
       "0.5493603067780064"
      ]
     },
     "execution_count": 253,
     "metadata": {},
     "output_type": "execute_result"
    }
   ],
   "source": [
    "def runge(x): return 1/(1+25*(x**2))\n",
    "true_runge = (np.arctan(5) - np.arctan(-5))/5\n",
    "true_runge"
   ]
  },
  {
   "cell_type": "markdown",
   "id": "d10da409-c283-4e91-920e-f29331167e4b",
   "metadata": {},
   "source": [
    "Using scipy's built-in integration methods, we get a value of $\\approx 0.54938$ for Simpson's method, which is slightly different from the true integral but accurate to 4 decimal points."
   ]
  },
  {
   "cell_type": "code",
   "execution_count": 254,
   "id": "a3f7f686-5288-4ef5-9e20-72c6600cce23",
   "metadata": {},
   "outputs": [
    {
     "data": {
      "text/plain": [
       "0.5493758748195977"
      ]
     },
     "execution_count": 254,
     "metadata": {},
     "output_type": "execute_result"
    }
   ],
   "source": [
    "import scipy.integrate as integrate\n",
    "\n",
    "xs = np.linspace(-1, 1, 20)\n",
    "eval_points = runge(xs)\n",
    "runge_simpson = integrate.simpson(eval_points, xs)\n",
    "runge_simpson"
   ]
  },
  {
   "cell_type": "markdown",
   "id": "e9c4d6ad-24a3-45cb-9443-b527beea7a95",
   "metadata": {},
   "source": [
    "Interestingly, integration with Gaussian quadrature yields a slightly less accurate answer. Whilst we cannot be sure what causes this, it may be due to the nature of the function at the endpoints, and the fact that we haven't got a typical polynomial defined in terms of positive integer coefficients."
   ]
  },
  {
   "cell_type": "code",
   "execution_count": 255,
   "id": "63ddd9ef-0ddd-4c8d-a169-ada26ba85922",
   "metadata": {},
   "outputs": [
    {
     "data": {
      "text/plain": [
       "0.548997098104952"
      ]
     },
     "execution_count": 255,
     "metadata": {},
     "output_type": "execute_result"
    }
   ],
   "source": [
    "runge_gaussian = integrate.fixed_quad(runge, -1, 1, n=20)[0]\n",
    "runge_gaussian"
   ]
  },
  {
   "cell_type": "markdown",
   "id": "32d93c6f-483e-47cb-a769-45ec47785666",
   "metadata": {},
   "source": [
    "## Question 10\n",
    "Use `scipy.integrate.quad` to integrate Runge’s function as above for different absolute tolerance levels (set the relative tolerance to be very small). How good is the output error estimate to the true error?"
   ]
  },
  {
   "cell_type": "markdown",
   "id": "9ae90349-020c-4427-a3fc-64619b0d4e51",
   "metadata": {},
   "source": [
    "First we loop over the different tolerances and calculate the integral estimates, and thus the error in the approximation using the analytic solution:"
   ]
  },
  {
   "cell_type": "code",
   "execution_count": 256,
   "id": "f170f255-c72c-4d6d-8990-a462f70c4277",
   "metadata": {},
   "outputs": [
    {
     "name": "stderr",
     "output_type": "stream",
     "text": [
      "/var/folders/k4/z1fdqs457dx3kgvlgz2mxrz80000gn/T/ipykernel_4124/2241214767.py:5: IntegrationWarning: The occurrence of roundoff error is detected, which prevents \n",
      "  the requested tolerance from being achieved.  The error may be \n",
      "  underestimated.\n",
      "  approx, error = integrate.quad(runges, -1, 1, epsabs = tolerances[i], epsrel = np.finfo(float).eps)\n"
     ]
    },
    {
     "data": {
      "text/plain": [
       "(array([0.54936031, 0.54936031, 0.54936031, 0.54936031, 0.54936031,\n",
       "        0.54936031, 0.54936031, 0.54936031, 0.54936031, 0.54936031]),\n",
       " array([2.05599957e-06, 2.05599957e-06, 2.05599957e-06, 2.05599957e-06,\n",
       "        2.86682794e-09, 2.86682794e-09, 6.07230914e-15, 6.07230914e-15,\n",
       "        6.07230914e-15, 6.07230914e-15]),\n",
       " array([5.00000000e-01, 1.14823007e-02, 2.63686460e-04, 6.05545445e-06,\n",
       "        1.39061098e-07, 3.19348269e-09, 7.33370573e-11, 1.68415629e-12,\n",
       "        3.86759780e-14, 8.88178420e-16]))"
      ]
     },
     "execution_count": 256,
     "metadata": {},
     "output_type": "execute_result"
    }
   ],
   "source": [
    "tolerances = 2**(-np.linspace(1, 50, 10))\n",
    "runge_approxs = np.empty(shape = 0)\n",
    "runge_errors = np.empty(shape = 0)\n",
    "for i in range(len(tolerances)):\n",
    "    approx, error = integrate.quad(runges, -1, 1, epsabs = tolerances[i], epsrel = np.finfo(float).eps)\n",
    "    runge_approxs = np.append(runge_approxs, est)\n",
    "    runge_errors = np.append(runge_errors, error)\n",
    "    \n",
    "runge_approxs, runge_errors, tolerances"
   ]
  },
  {
   "cell_type": "markdown",
   "id": "e41042dc-a113-4249-b468-c940b85652dc",
   "metadata": {},
   "source": [
    "We can now calculate the theoretical value of the integral, and compare the true errors in the approximation to the outtput errors from Scipy:"
   ]
  },
  {
   "cell_type": "code",
   "execution_count": 257,
   "id": "a1762b30-ad7f-4ecd-87be-83d3dbb484b4",
   "metadata": {},
   "outputs": [
    {
     "data": {
      "text/plain": [
       "(array([0., 0., 0., 0., 0., 0., 0., 0., 0., 0.]),\n",
       " array([2.05599957e-06, 2.05599957e-06, 2.05599957e-06, 2.05599957e-06,\n",
       "        2.86682794e-09, 2.86682794e-09, 6.07230914e-15, 6.07230914e-15,\n",
       "        6.07230914e-15, 6.07230914e-15]))"
      ]
     },
     "execution_count": 257,
     "metadata": {},
     "output_type": "execute_result"
    }
   ],
   "source": [
    "true_runge = (np.arctan(5) - np.arctan(-5))/5\n",
    "true_errors = np.abs(runge_approxs - true_runge)\n",
    "true_errors, runge_errors"
   ]
  },
  {
   "cell_type": "markdown",
   "id": "c574ae09-2210-4796-9179-d5bfa3c152c8",
   "metadata": {},
   "source": [
    "We see that our true errors are so small that they're approximately 0 when represented on the computer. However, the error estimates of the Runge integral aren't zero - they're only accurate to about six decimal places. As the tolerance gets smaller, this accuracy improves, but still doesn't reach zero. This suggests that no matter how small we set the absolute tolerance, the `scipy.integrate.quad()` function is likely to miscalculate the error. However, as it seems to overestimate the error, it appears to provide a bound on the true error. Indeed, when the absolute tolerance gets incredibly small, Scipy provides a warning about overflow error."
   ]
  }
 ],
 "metadata": {
  "kernelspec": {
   "display_name": "Python 3 (ipykernel)",
   "language": "python",
   "name": "python3"
  },
  "language_info": {
   "codemirror_mode": {
    "name": "ipython",
    "version": 3
   },
   "file_extension": ".py",
   "mimetype": "text/x-python",
   "name": "python",
   "nbconvert_exporter": "python",
   "pygments_lexer": "ipython3",
   "version": "3.9.7"
  }
 },
 "nbformat": 4,
 "nbformat_minor": 5
}
