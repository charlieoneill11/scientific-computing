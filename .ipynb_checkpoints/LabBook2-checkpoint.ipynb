{
 "cells": [
  {
   "cell_type": "markdown",
   "id": "c10784de-d4bd-473f-b7e9-914f882e5704",
   "metadata": {},
   "source": [
    "# Lab Book 2"
   ]
  },
  {
   "cell_type": "markdown",
   "id": "01fa015a-6630-40fe-b203-9ea218f2f425",
   "metadata": {},
   "source": [
    "## Question 1\n",
    "__PART A__\n",
    "Given a vector $e = (e_1, . . . , e_n)$ of errors $e_n > 0$, explain mathematically how fitting\n",
    "a straight line through the data $x = (\\log e_1,..., \\log e_{n−1})$ and $y = (\\log e_2,..., \\log e_n)$ can estimate the order of convergence for $e_n \\to 0$.\n",
    "\n",
    "Suppose our order of convergence is given by $m$. Then, by definition, the error of our method is $e_{n+1} \\leq Ce_n^m$, for some constant $C$. Assuming the equality holds (which represents the worst-case part of the convergence), and taking the natural log of both sides of the equation, we get\n",
    "$$\n",
    "\\ln(e_{n+1}) = \\ln(Ce_n^m)\n",
    "$$\n",
    "$$\n",
    "m\\ln(e_n) = \\ln(e_{n+1})-\\ln(C)\n",
    "$$\n",
    "Solving for $m$ (which is our order of convergence), and ignoring the constant $\\ln(C)$, we get\n",
    "$$\n",
    "m \\approx \\frac{\\ln(e_{n+1})}{\\ln(e_n)}\n",
    "$$\n",
    "However, the above calculation only assumes we have two error values; we just take the ratio of their natural logs. To get a better sense of the order of convergence $m$, we can plot $\\ln(e_n)$ on the $x$-axis and $\\ln(e_{n+1})$ on the $y$-axis. Fitting a least-squares regression line through these multiple points, and the slope of this line will be the convergence rate $m$. This is where we use the vectors $x$ and $y$.\n",
    "\n",
    "__PART B__\n",
    "Using `np.polyfit` to do the fitting, estimate the order of convergence of the following sequence."
   ]
  },
  {
   "cell_type": "code",
   "execution_count": 3,
   "id": "4cdcbd08-7f3a-4029-8f29-9f7569abe06d",
   "metadata": {},
   "outputs": [],
   "source": [
    "import numpy as np\n",
    "import matplotlib.pyplot as plt\n",
    "\n",
    "e_1 = 9.55213728*10**(-1)\n",
    "e_2 = 9.06436704*10**(-1)\n",
    "e_3 = 7.33394145*10**(-1)\n",
    "e_4 = 3.89531478*10**(-1)\n",
    "e_5 = 5.83960912*10**(-2)\n",
    "e_6 = 1.97897053*10**(-4)\n",
    "e_7 = 7.63529928*10**(-12)\n",
    "\n",
    "# set up the array of error values\n",
    "con_array = np.log(np.array([e_1, e_2, e_3, e_4, e_5, e_6, e_7]))\n",
    "# fit a least squares regression line of e_n+1 ~ e_n\n",
    "fit = np.polyfit(con_array[:-1], con_array[1:], deg=1) # x and y respectively"
   ]
  },
  {
   "cell_type": "code",
   "execution_count": 4,
   "id": "6de7b50a-6f03-41d5-8e03-429eb39a4fa3",
   "metadata": {},
   "outputs": [
    {
     "data": {
      "text/plain": [
       "3.002075747070026"
      ]
     },
     "execution_count": 4,
     "metadata": {},
     "output_type": "execute_result"
    }
   ],
   "source": [
    "# the slope of the regression line for x and y\n",
    "# highest power is first = slope\n",
    "fit[0]"
   ]
  },
  {
   "cell_type": "markdown",
   "id": "ed31ff16-e149-4080-8bf7-d55b50da1fc6",
   "metadata": {},
   "source": [
    "Thus, using the slope of the least-squares fit of $\\ln(e_{n+1})$ on $\\ln(e_n)$, we estimate the order of convergence to be $m=3$."
   ]
  },
  {
   "cell_type": "markdown",
   "id": "50a0c4ea-c942-4bfb-a251-da07c0c40b49",
   "metadata": {},
   "source": [
    "## Question 2\n",
    "Make a plot of the function $f(x) = e^{−x} − x$, and use this to decide on a sensible choice\n",
    "of starting points. Run Newton’s method and the secant method for 10 iterations to find a root of $f(x)$. Estimate the order of convergence (e.g. using $f(x_n) \\to 0$) and comment all the results you have obtained."
   ]
  },
  {
   "cell_type": "code",
   "execution_count": 5,
   "id": "4f459a03-18f6-4e0b-aebf-d39f51061f70",
   "metadata": {},
   "outputs": [],
   "source": [
    "def newton(f, df, x0, niters, p=True):\n",
    "    \"\"\"\n",
    "    Newton's method for 1D rootfinding.\n",
    "    - The function f(x) is the one we want the root of\n",
    "    - The function df(x) is the derivative f'(x)\n",
    "    - x0 is the starting point\n",
    "    - niters is the number of iterations to run\n",
    "    \"\"\"\n",
    "    x = x0 # initial guess\n",
    "    if p: print(\"{0:^3}{1:^25}{2:^25}\".format(\"k\", \"xk\", \"f(xk)\"))\n",
    "    for i in range(niters):\n",
    "        if p: print(\"{0:^3}{1:^25.15e}{2:^25.15e}\".format(i, x, f(x)))\n",
    "        x = x - (f(x)/df(x))\n",
    "    return x\n",
    "\n",
    "def secant(f, x1, x2, niters):\n",
    "    \"\"\"\n",
    "    Secant method for 1D rootfinding.\n",
    "    - The function f(x) is the one we want the root of\n",
    "    - x1 and x2 are the two starting points\n",
    "    - niters is the number of iterations to run\n",
    "    \"\"\"\n",
    "    f1 = f(x1); f2 = f(x2)\n",
    "    print(\"{0:^3}{1:^25}{2:^25}\".format(\"k\", \"xk\", \"f(xk)\"))\n",
    "    for i in range(niters):\n",
    "        print(\"{0:^3}{1:^25.15e}{2:^25.15e}\".format(i, x2, f2))\n",
    "        if f1 == f2:\n",
    "            print('Secant method error: division by zero')\n",
    "            return x2\n",
    "        x3 = x2 - f(x2)*((x2-x1)/(f(x2)-f(x1)))\n",
    "        # Update x1 and x2 (don't need to modify this)\n",
    "        x1 = x2; f1 = f2\n",
    "        x2 = x3; f2 = f(x3)\n",
    "    return x2"
   ]
  },
  {
   "cell_type": "code",
   "execution_count": 54,
   "id": "164cab36-cf52-4e38-aeaa-1eab486df0b4",
   "metadata": {},
   "outputs": [
    {
     "data": {
      "image/png": "[encoded data removed]",
      "text/plain": [
       "<Figure size 432x288 with 1 Axes>"
      ]
     },
     "metadata": {
      "needs_background": "light"
     },
     "output_type": "display_data"
    }
   ],
   "source": [
    "import math\n",
    "\n",
    "def f(x): return math.exp(-x)-x\n",
    "def df(x): return -math.exp(-x)-1\n",
    "\n",
    "x = np.linspace(-3, 3, 100)\n",
    "y = np.array([f(z) for z in x])\n",
    "plt.plot(x, y)\n",
    "plt.xlabel(\"x\")\n",
    "plt.ylabel(\"y\")\n",
    "plt.title(\"Plot of f(x) = e^(-x)-x\")\n",
    "plt.axhline(0, color='red', label=\"f(x) = 0\")\n",
    "plt.legend()\n",
    "plt.show()"
   ]
  },
  {
   "cell_type": "markdown",
   "id": "20847665-8489-4342-a0ee-ae99ab38cd57",
   "metadata": {},
   "source": [
    "From this plot, we will choose 1 as the starting point."
   ]
  },
  {
   "cell_type": "code",
   "execution_count": 7,
   "id": "30e1dc36-e173-44f5-9ce4-c3668ad0c414",
   "metadata": {},
   "outputs": [
    {
     "name": "stdout",
     "output_type": "stream",
     "text": [
      " k            xk                      f(xk)          \n",
      " 0   1.000000000000000e+00   -6.321205588285577e-01  \n",
      " 1   5.378828427399902e-01    4.610048629168972e-02  \n",
      " 2   5.669869914054133e-01    2.449498638371628e-04  \n",
      " 3   5.671432859891230e-01    6.927808993140161e-09  \n",
      " 4   5.671432904097838e-01    0.000000000000000e+00  \n",
      " 5   5.671432904097838e-01    0.000000000000000e+00  \n",
      " 6   5.671432904097838e-01    0.000000000000000e+00  \n",
      " 7   5.671432904097838e-01    0.000000000000000e+00  \n",
      " 8   5.671432904097838e-01    0.000000000000000e+00  \n",
      " 9   5.671432904097838e-01    0.000000000000000e+00  \n"
     ]
    },
    {
     "data": {
      "text/plain": [
       "0.5671432904097838"
      ]
     },
     "execution_count": 7,
     "metadata": {},
     "output_type": "execute_result"
    }
   ],
   "source": [
    "newton(f, df, 1, 10)"
   ]
  },
  {
   "cell_type": "code",
   "execution_count": 9,
   "id": "804d9345",
   "metadata": {},
   "outputs": [
    {
     "data": {
      "text/plain": [
       "1.9998669255879264"
      ]
     },
     "execution_count": 9,
     "metadata": {},
     "output_type": "execute_result"
    }
   ],
   "source": [
    "e_0 = 6.321205588285577e-01  \n",
    "e_1 = 4.610048629168972e-02  \n",
    "e_2 = 2.449498638371628e-04  \n",
    "e_3 = 6.927808993140161e-09  \n",
    "# set up the array of error values\n",
    "con_array = np.log(np.array([e_0, e_1, e_2, e_3]))\n",
    "# fit a least squares regression line of e_n+1 ~ e_n\n",
    "fit = np.polyfit(con_array[:-1], con_array[1:], deg=1) # x and y respectively\n",
    "# the slope of the regression line for x and y\n",
    "# highest power is first = slope\n",
    "fit[0]"
   ]
  },
  {
   "cell_type": "markdown",
   "id": "fa67bcec-396e-44a5-a286-feebfaa952dc",
   "metadata": {},
   "source": [
    "Since the error $f(x_k) - 0 = f(x_k)$ approximately halves at each step, we estimate that the error of convergence is quadratic $m=2$. We confirm this above by running our convergence approximation code which uses log-least-squares fitting.\n",
    "\n",
    "For the secant error, since the root appears to be between 0 and 1, we will choose these as our starting values."
   ]
  },
  {
   "cell_type": "code",
   "execution_count": 10,
   "id": "800a05f0-9f7b-408a-9ff7-9ad185b32ea4",
   "metadata": {},
   "outputs": [
    {
     "name": "stdout",
     "output_type": "stream",
     "text": [
      " k            xk                      f(xk)          \n",
      " 0   1.000000000000000e+00   -6.321205588285577e-01  \n",
      " 1   6.126998367802821e-01   -7.081394787317097e-02  \n",
      " 2   5.638383891610742e-01    5.182354507338394e-03  \n",
      " 3   5.671703584197446e-01   -4.241924243009176e-05  \n",
      " 4   5.671433066049633e-01   -2.538016663500287e-08  \n",
      " 5   5.671432904097046e-01    1.242339564555550e-13  \n",
      " 6   5.671432904097838e-01    0.000000000000000e+00  \n",
      " 7   5.671432904097838e-01    0.000000000000000e+00  \n",
      "Secant method error: division by zero\n"
     ]
    },
    {
     "data": {
      "text/plain": [
       "0.5671432904097838"
      ]
     },
     "execution_count": 10,
     "metadata": {},
     "output_type": "execute_result"
    }
   ],
   "source": [
    "secant(f, 0, 1, 10)"
   ]
  },
  {
   "cell_type": "markdown",
   "id": "d32457c0-28d5-4713-aeb3-f12b64cd68d5",
   "metadata": {},
   "source": [
    "Since the error $f(x_k)$ decreases by approximately 1.5 times the previous error at each iteration, we estimate the order of convergence of the secant method to be 1.5. Again, we can confirm this with the convergence log-least-squares fitting, which reveals that the value is closer to 1.6:"
   ]
  },
  {
   "cell_type": "code",
   "execution_count": 11,
   "id": "a97c62ad",
   "metadata": {},
   "outputs": [
    {
     "data": {
      "text/plain": [
       "1.606229621379084"
      ]
     },
     "execution_count": 11,
     "metadata": {},
     "output_type": "execute_result"
    }
   ],
   "source": [
    "e_0 = 6.321205588285577e-01  \n",
    "e_1 = 7.081394787317097e-02  \n",
    "e_2 = 5.182354507338394e-03  \n",
    "e_3 = 4.241924243009176e-05  \n",
    "e_4 = 2.538016663500287e-08  \n",
    "e_5 = 1.242339564555550e-13   \n",
    "# set up the array of error values\n",
    "con_array = np.log(np.array([e_0, e_1, e_2, e_3, e_4, e_5]))\n",
    "# fit a least squares regression line of e_n+1 ~ e_n\n",
    "fit = np.polyfit(con_array[:-1], con_array[1:], deg=1) # x and y respectively\n",
    "# the slope of the regression line for x and y\n",
    "# highest power is first = slope\n",
    "fit[0]"
   ]
  },
  {
   "cell_type": "markdown",
   "id": "0335a5a5-9fba-489b-ad43-7ae8805de769",
   "metadata": {
    "tags": []
   },
   "source": [
    "## Question 3\n",
    "Run Newton’s method to find a root of $f(x) = x^4$ starting from $x = 1$. Estimate the order\n",
    "of convergence and comment on the results."
   ]
  },
  {
   "cell_type": "code",
   "execution_count": 53,
   "id": "5980ad49-f68b-4a32-a5b3-56193d3d37b1",
   "metadata": {},
   "outputs": [
    {
     "name": "stdout",
     "output_type": "stream",
     "text": [
      " k            xk                      f(xk)          \n",
      " 0   5.000000000000000e-01    6.250000000000000e-02  \n",
      " 1   3.750000000000000e-01    1.977539062500000e-02  \n",
      " 2   2.812500000000000e-01    6.257057189941406e-03  \n",
      " 3   2.109375000000000e-01    1.979772001504898e-03  \n",
      " 4   1.582031250000000e-01    6.264122348511592e-04  \n",
      " 5   1.186523437500000e-01    1.982007461833746e-04  \n",
      " 6   8.898925781250000e-02    6.271195484708336e-05  \n",
      " 7   6.674194335937500e-02    1.984245446333497e-05  \n",
      " 8   5.005645751953125e-02    6.278276607539580e-06  \n",
      " 9   3.754234313964844e-02    1.986485957854321e-06  \n",
      "10   2.815675735473633e-02    6.285365726023435e-07  \n",
      "11   2.111756801605225e-02    1.988728999249603e-07  \n",
      "12   1.583817601203918e-02    6.292462849188196e-08  \n",
      "13   1.187863200902939e-02    1.990974573375952e-08  \n",
      "14   8.908974006772041e-03    6.299567986072350e-09  \n",
      "15   6.681730505079031e-03    1.993222683093204e-09  \n",
      "16   5.011297878809273e-03    6.306681145724592e-10  \n",
      "17   3.758473409106955e-03    1.995473331264422e-10  \n",
      "18   2.818855056830216e-03    6.313802337203834e-11  \n",
      "19   2.114141292622662e-03    1.997726520755901e-11  \n"
     ]
    },
    {
     "data": {
      "text/plain": [
       "0.0015856059694669966"
      ]
     },
     "execution_count": 53,
     "metadata": {},
     "output_type": "execute_result"
    }
   ],
   "source": [
    "def f(x): return x**4\n",
    "def df(x): return 4*(x**3)\n",
    "\n",
    "newton(f, df, 0.5, 20)"
   ]
  },
  {
   "cell_type": "markdown",
   "id": "8ed265d3-40d5-4f07-8464-2a109807aa5b",
   "metadata": {},
   "source": [
    "In this case, it appears that the order of convergence is significantly less than 2. Using our convergence estimation method from above, we estimate that it the order of convergence is 1."
   ]
  },
  {
   "cell_type": "code",
   "execution_count": 52,
   "id": "522875d0",
   "metadata": {},
   "outputs": [
    {
     "data": {
      "text/plain": [
       "1.0000000000000002"
      ]
     },
     "execution_count": 52,
     "metadata": {},
     "output_type": "execute_result"
    }
   ],
   "source": [
    "e_0 = 6.250000000000000e-02  \n",
    "e_1 = 1.977539062500000e-02  \n",
    "e_2 = 6.257057189941406e-03  \n",
    "e_3 = 1.979772001504898e-03  \n",
    "e_4 = 6.264122348511592e-04  \n",
    "e_5 = 1.982007461833746e-04  \n",
    "e_6 = 6.271195484708336e-05  \n",
    "e_7 = 1.984245446333497e-05  \n",
    "e_8 = 6.278276607539580e-06  \n",
    "e_9 = 1.986485957854321e-06  \n",
    "e_10 = 6.285365726023435e-07  \n",
    "# set up the array of error values\n",
    "con_array = np.log(np.array([e_0, e_1, e_2, e_3, e_4, e_5, e_6,\n",
    "                             e_7, e_8, e_9, e_10]))\n",
    "# fit a least squares regression line of e_n+1 ~ e_n\n",
    "fit = np.polyfit(con_array[:-1], con_array[1:], deg=1) # x and y respectively\n",
    "# the slope of the regression line for x and y\n",
    "# highest power is first = slope\n",
    "fit[0]"
   ]
  },
  {
   "cell_type": "markdown",
   "id": "1d088116-325b-4b47-a44f-fcc47eb6efd9",
   "metadata": {},
   "source": [
    "## Question 4\n",
    "Brent’s method does not require the derivative $f'(x)$. For $f(x) = e^{−x} − x$, how does it\n",
    "compare to the secant method?\n",
    "\n",
    "We call Brent's method on $f(x)=e^{-x}-x$:"
   ]
  },
  {
   "cell_type": "code",
   "execution_count": 55,
   "id": "4aff48a6",
   "metadata": {},
   "outputs": [
    {
     "name": "stdout",
     "output_type": "stream",
     "text": [
      "Root = 0.567143290409784\n",
      "Iterations: 7\n",
      "Function calls: 8\n"
     ]
    }
   ],
   "source": [
    "import scipy.optimize as optimize\n",
    "\n",
    "# set up function\n",
    "def f(x): return math.exp(-x)-x\n",
    "# find the root\n",
    "sol = optimize.root_scalar(f, bracket=(-1, 1), method='brentq')\n",
    "print(\"Root =\", sol.root)\n",
    "print (\"Iterations:\", sol.iterations)\n",
    "print (\"Function calls:\", sol.function_calls)"
   ]
  },
  {
   "cell_type": "markdown",
   "id": "38876535",
   "metadata": {},
   "source": [
    "The call to Brent's method used seven iterations of the algorithm, and called the function 8 times. This is comparable with the secant method, which required 7 iterations to reduce the error of the root down to $f(x)=0$ (in terms of machine number)."
   ]
  },
  {
   "cell_type": "markdown",
   "id": "9be0f2f3-0626-4826-81ab-6572285f3c12",
   "metadata": {},
   "source": [
    "## Question 5\n",
    "__PART A__ Make a plot of the function $f(x) = \\cos\\left(\\frac{1}{x}\\right)$ for $x \\in [0.03, 0.2]$. You should see that $f(x)$ has many roots in this interval. What happens to $f(x)$ as $x \\to 0$?\n",
    "\n",
    "As $x\\to 0$, we see that the frequency of the function increases. That is, it begins to cross the line $f(x)=0$ more and more frequently, increasing the number of roots in the region."
   ]
  },
  {
   "cell_type": "code",
   "execution_count": 101,
   "id": "7b8b6660-06cc-465d-9f80-2a827c951ecb",
   "metadata": {},
   "outputs": [
    {
     "data": {
      "image/png": "[encoded data removed]",
      "text/plain": [
       "<Figure size 432x288 with 1 Axes>"
      ]
     },
     "metadata": {
      "needs_background": "light"
     },
     "output_type": "display_data"
    }
   ],
   "source": [
    "x = np.linspace(0.03, 0.2, 1000)\n",
    "def f(x): return math.cos(1/x)\n",
    "y = [f(z) for z in x]\n",
    "plt.plot(x, y)\n",
    "plt.title(\"Plot of cos(1/x) in [0.03, 0.2]\")\n",
    "plt.axhline(0, color=\"red\", label=\"f(x)=0\")\n",
    "plt.legend()\n",
    "plt.show()"
   ]
  },
  {
   "cell_type": "markdown",
   "id": "7aad3dbb-cb1a-427b-8632-ebd700d6d5bf",
   "metadata": {},
   "source": [
    "__PART B__ Try running Newton’s method for this $f(x)$ with starting points $x_0 = 0.05, 0.06, . . . , 0.2$. What do you observe?"
   ]
  },
  {
   "cell_type": "code",
   "execution_count": 103,
   "id": "daef0aa5-99b2-49ce-98c9-984ff3b06534",
   "metadata": {},
   "outputs": [
    {
     "name": "stdout",
     "output_type": "stream",
     "text": [
      " k            xk                      f(xk)          \n",
      " 0   5.000000000000000e-02    4.080820618133920e-01  \n",
      " 1   4.888251222762771e-02   -3.685312839673568e-02  \n",
      " 2   4.897063263882934e-02   -4.965611485208414e-05  \n",
      " 3   4.897075172029371e-02   -1.207079802873458e-10  \n",
      " 4   4.897075172058318e-02    2.572377258846030e-15  \n",
      " 5   4.897075172058318e-02   -9.803364199544708e-16  \n",
      " 6   4.897075172058318e-02   -9.803364199544708e-16  \n",
      " 7   4.897075172058318e-02   -9.803364199544708e-16  \n",
      " 8   4.897075172058318e-02   -9.803364199544708e-16  \n",
      " 9   4.897075172058318e-02   -9.803364199544708e-16  \n"
     ]
    },
    {
     "data": {
      "text/plain": [
       "0.048970751720583176"
      ]
     },
     "execution_count": 103,
     "metadata": {},
     "output_type": "execute_result"
    }
   ],
   "source": [
    "# define the derivative of cos(1/x)\n",
    "def df(x): return math.sin(1/x)/x**2\n",
    "\n",
    "# Newton's Method with x_0 = 0.05\n",
    "newton(f, df, 0.05, 10)"
   ]
  },
  {
   "cell_type": "code",
   "execution_count": 113,
   "id": "c40b4a9f-24ab-4425-b8fb-327d0ac05438",
   "metadata": {},
   "outputs": [
    {
     "data": {
      "text/plain": [
       "[0.048970751720583176,\n",
       " 0.05787452476068922,\n",
       " 0.07073553026306459,\n",
       " 0.07073553026306459,\n",
       " 0.09094568176679733,\n",
       " 0.09094568176679733,\n",
       " 0.09094568176679733,\n",
       " 0.2122065907891938,\n",
       " 0.12732395447351627,\n",
       " 0.12732395447351627,\n",
       " 0.12732395447351627,\n",
       " 0.12732395447351627,\n",
       " 0.09094568176679733,\n",
       " -0.6366197723675814,\n",
       " 0.2122065907891938,\n",
       " 0.2122065907891938,\n",
       " 0.2122065907891938,\n",
       " 0.2122065907891938,\n",
       " 0.2122065907891938]"
      ]
     },
     "execution_count": 113,
     "metadata": {},
     "output_type": "execute_result"
    }
   ],
   "source": [
    "# repeated Newton's method with different x0\n",
    "newton_roots = [] # instantiate roots array\n",
    "x = np.linspace(0.05, 0.2, 19)\n",
    "for x0 in x:\n",
    "    newton_roots.append(newton(f, df, x0, 10, p=False))\n",
    "newton_roots"
   ]
  },
  {
   "cell_type": "markdown",
   "id": "114e0449-5ebc-4490-8b2f-174a8a31d156",
   "metadata": {},
   "source": [
    "We see that Newton's method gives us a different root depending on where we start the process (the value of $x_0$)."
   ]
  },
  {
   "cell_type": "markdown",
   "id": "eda89c8a-198e-42a7-ac01-a50d5887c117",
   "metadata": {},
   "source": [
    "## Question 6\n",
    "Implement the multidimensional version of Newton’s method from lectures and use it to\n",
    "solve the above system of equations starting from $x_0 = (0.1, −1)$. Do you observe a quadratic local convergence rate? Hint: to measure the error, I suggest using $\\sqrt{f_1(x_n)^2+f_2(x_n)^2}$, where $f_i$ are the two functions you wish to make zero.\n",
    "\n",
    "The non-linear system we wish to solve is\n",
    "$$\n",
    "x_1+x_2-x_1x_2+2 = 0\n",
    "$$\n",
    "$$\n",
    "x_1e^{-x_2}-1=0\n",
    "$$"
   ]
  },
  {
   "cell_type": "code",
   "execution_count": 22,
   "id": "986514de-7198-4d7b-8064-a03f82b4c0fe",
   "metadata": {},
   "outputs": [],
   "source": [
    "# define the function as a non-linear system\n",
    "def f(x):\n",
    "    return [x[0] + x[1] - x[0]*x[1] + 2,\n",
    "            x[0]*math.exp(-x[1]) - 1]\n",
    "# derivative of all functions with respect to x_1\n",
    "def df_1(x): return np.array([1-x[1], math.exp(-x[1])])\n",
    "# derivative of all functions with respect to x_2\n",
    "def df_2(x): return np.array([1-x[0], -x[0]*math.exp(-x[1])])\n",
    "# bundle these into gradient matrix\n",
    "df = [df_1, df_2]"
   ]
  },
  {
   "cell_type": "code",
   "execution_count": 23,
   "id": "012ad3ea-f225-4aee-9855-b33753f29520",
   "metadata": {},
   "outputs": [],
   "source": [
    "def newton_new_x(x, df, f):\n",
    "    df_x1, df_x2 = df[0](x), df[1](x) # derivatives to put in Jacobian\n",
    "    grad = jacobian(x)\n",
    "    grad_inv = np.linalg.inv(grad)\n",
    "    return np.transpose(x) - (grad_inv @ np.transpose(f(x)))\n",
    "\n",
    "def jacobian(x):\n",
    "    return np.transpose(np.array([df_1(x), df_2(x)]))\n",
    "\n",
    "def calculate_error(f, x):\n",
    "    return np.sqrt(f(x)[0]**2 + f(x)[1]**2)"
   ]
  },
  {
   "cell_type": "code",
   "execution_count": 34,
   "id": "d5332f65",
   "metadata": {},
   "outputs": [
    {
     "data": {
      "text/plain": [
       "3.1221218862202527"
      ]
     },
     "execution_count": 34,
     "metadata": {},
     "output_type": "execute_result"
    }
   ],
   "source": [
    "np.sqrt(f([1, 2])[0]**2 + f([1, 2])[1]**2)"
   ]
  },
  {
   "cell_type": "code",
   "execution_count": 46,
   "id": "1c7181d2-14ac-48ae-994a-716ac3b4c4bd",
   "metadata": {},
   "outputs": [],
   "source": [
    "def multi_newton(f, df, x0, n_iters, p=True):\n",
    "    \"\"\"\n",
    "    Newton's method for multi-dimensional rootfinding.\n",
    "    - The function f(x) is the one we want the root of\n",
    "    - The vector df(x) is the derivatives f'(x) wrt x_1 and x_2 (shape=2x1)\n",
    "    - x0 is the starting point\n",
    "    - n_iters is the number of iterations to run\n",
    "    \"\"\"\n",
    "    x = x0 # initial estimate\n",
    "    errors = []\n",
    "    if p: print(\"{},        {},        {}\".format(\"k\", \"xk\", \"Error\"))\n",
    "    for i in range(n_iters):\n",
    "        if p: print(\"{},        {},        {}\".format(i, x, calculate_error(f, x)))\n",
    "        x = newton_new_x(x, df, f)\n",
    "        errors.append(calculate_error(f, x))\n",
    "    return x, errors"
   ]
  },
  {
   "cell_type": "code",
   "execution_count": 47,
   "id": "7e9d2032-51d3-4009-9ef1-f59212e4368b",
   "metadata": {},
   "outputs": [
    {
     "name": "stdout",
     "output_type": "stream",
     "text": [
      "k,        xk,        Error\n",
      "0,        [0.1, -1],        1.4036503109027894\n",
      "1,        [ 0.21008318 -2.57796262],        1.775372282191226\n",
      "2,        [ 0.11766933 -2.37927567],        0.27110757556599074\n",
      "3,        [ 0.09871225 -2.32748129],        0.012046639068560586\n",
      "4,        [ 0.09777511 -2.32511085],        2.5684649777205224e-05\n",
      "5,        [ 0.09777309 -2.32510588],        1.1521924153322465e-10\n",
      "6,        [ 0.09777309 -2.32510588],        0.0\n"
     ]
    }
   ],
   "source": [
    "root, errors = multi_newton(f, df, [0.1, -1], 7)"
   ]
  },
  {
   "cell_type": "code",
   "execution_count": 262,
   "id": "684e7605-f522-4be0-8f80-0ed66d519e0b",
   "metadata": {},
   "outputs": [
    {
     "data": {
      "text/plain": [
       "array([ True,  True])"
      ]
     },
     "execution_count": 262,
     "metadata": {},
     "output_type": "execute_result"
    }
   ],
   "source": [
    "np.isclose(f(root), [0.0, 0.0])"
   ]
  },
  {
   "cell_type": "markdown",
   "id": "c8b67bbc",
   "metadata": {},
   "source": [
    "To see if we observe a quadratic convergence rate, we can reuse our code from above that fits a least-squares line:"
   ]
  },
  {
   "cell_type": "code",
   "execution_count": 42,
   "id": "e4db970b",
   "metadata": {},
   "outputs": [
    {
     "data": {
      "text/plain": [
       "1.9529579130682202"
      ]
     },
     "execution_count": 42,
     "metadata": {},
     "output_type": "execute_result"
    }
   ],
   "source": [
    "# set up the array of error values\n",
    "con_array = np.log(errors[:-2]) # remove the last two values (can't take log of 0)\n",
    "# fit a least squares regression line of e_n+1 ~ e_n\n",
    "fit = np.polyfit(con_array[:-1], con_array[1:], deg=1) # x and y respectively\n",
    "# the slope of the regression line for x and y\n",
    "# highest power is first = slope\n",
    "fit[0]"
   ]
  },
  {
   "cell_type": "markdown",
   "id": "a5509f57",
   "metadata": {},
   "source": [
    "Thus, the order of convergence is close to 2, and is quadratic."
   ]
  },
  {
   "cell_type": "markdown",
   "id": "21142af2-554f-4d9e-a0f8-8b029433f1da",
   "metadata": {},
   "source": [
    "## Question 7\n",
    "__PART A__ Implement a function `polyfit` which takes in a vector of $x$ values $(x_0,..., x_n)$ and $y$-values $(y_0,..., y_n)$ and returns the corresponding interpolating polynomial as a NumPy polynomial object (i.e. you should have return `np.poly1d(a)` as the last line of the function). You should do this by solving the corresponding Vandermonde system. "
   ]
  },
  {
   "cell_type": "code",
   "execution_count": 13,
   "id": "36851d9f-d0bc-475a-8c84-ea5c563346a9",
   "metadata": {},
   "outputs": [],
   "source": [
    "def polyfit(x, y):\n",
    "    vander = np.vander(x, increasing=True)\n",
    "    a = list(np.linalg.inv(vander) @ y)[::-1]\n",
    "    return np.poly1d(a)"
   ]
  },
  {
   "cell_type": "markdown",
   "id": "11bed022-d846-4dd1-a9b9-0996664e0a02",
   "metadata": {},
   "source": [
    "__PART B__ Use your function to find the degree-10 polynomial interpolating $\\sin(x)$ at $x = 0, 0.6, 1.2,..., 6$. "
   ]
  },
  {
   "cell_type": "code",
   "execution_count": 14,
   "id": "79b835d5-5153-4886-b6d2-540cf3ef6670",
   "metadata": {},
   "outputs": [
    {
     "data": {
      "text/plain": [
       "poly1d([-3.34568333e-08, -1.27253777e-06,  5.13729691e-05, -5.18769514e-04,\n",
       "        1.20748275e-03,  5.43100711e-03,  4.44155295e-03, -1.70805212e-01,\n",
       "        2.10279653e-03,  9.99564647e-01,  0.00000000e+00])"
      ]
     },
     "execution_count": 14,
     "metadata": {},
     "output_type": "execute_result"
    }
   ],
   "source": [
    "x = np.linspace(0, 6, 11)\n",
    "y = np.sin(x)\n",
    "p = polyfit(x, y)\n",
    "p"
   ]
  },
  {
   "cell_type": "markdown",
   "id": "05475f13-3b7a-446b-8c76-e3519f2e5b3f",
   "metadata": {},
   "source": [
    "__PART C__ Make a plot of your interpolant and $\\sin(x)$ over $x \\in [−2, 9]$ and comment on the quality of the fit. "
   ]
  },
  {
   "cell_type": "code",
   "execution_count": 15,
   "id": "f453314b-4b15-493c-a079-bb9d9d961833",
   "metadata": {},
   "outputs": [
    {
     "data": {
      "image/png": "[encoded data removed]",
      "text/plain": [
       "<Figure size 432x288 with 1 Axes>"
      ]
     },
     "metadata": {
      "needs_background": "light"
     },
     "output_type": "display_data"
    }
   ],
   "source": [
    "t = np.linspace(-2, 9, 1000)\n",
    "interps = p(t)\n",
    "true = np.sin(t)\n",
    "plt.plot(t, interps, label=\"Interpolating Polynomial\")\n",
    "plt.plot(t, true, label=\"True function sin(x)\")\n",
    "plt.title(\"Interpolating polynomial of sin(x)\")\n",
    "plt.legend()\n",
    "plt.show()"
   ]
  },
  {
   "cell_type": "markdown",
   "id": "638ee5fb-eef1-4c3a-9ddf-127f470bd1f7",
   "metadata": {},
   "source": [
    "The interpolating polynomial fits the true function $\\sin(x)$ incredibly well in the middle of the range. In fact, the two are indistinguishable to the naked eye in this plot. However, at the endpoints the interpolating polynomial differs considerably from the true function. This is a result of only fitting the function to values in the range $[0, 6]$, whereas we are plotting it in a larger range. "
   ]
  },
  {
   "cell_type": "markdown",
   "id": "e7857703-ad51-47a0-99ed-3f0fdf72039c",
   "metadata": {},
   "source": [
    "## Question 8\n",
    "Using 11 equally spaced nodes in $[−1, 1]$, find the polynomial interpolant for Runge’s\n",
    "function \n",
    "$$\n",
    "f(x) = \\frac{1}{1+25x^2}\n",
    "$$\n",
    "Make a graph of the true $f(x)$ and the interpolant $p(x)$ and comment on what you see."
   ]
  },
  {
   "cell_type": "code",
   "execution_count": 65,
   "id": "12dc0ae8-4b09-4dec-8539-a5a96ee7ac80",
   "metadata": {},
   "outputs": [
    {
     "data": {
      "image/png": "[encoded data removed]",
      "text/plain": [
       "<Figure size 432x288 with 1 Axes>"
      ]
     },
     "metadata": {
      "needs_background": "light"
     },
     "output_type": "display_data"
    }
   ],
   "source": [
    "import scipy.interpolate as interpolate\n",
    "\n",
    "# define runge's function\n",
    "def runge(x): return 1/(1+25*x**2)\n",
    "# select interpolation nodes\n",
    "x = np.linspace(-1, 1, 11) # equally spaced nodes\n",
    "fx = runge(x) # evaluate runge's function at each node\n",
    "# build interpolant for data (x, fx)\n",
    "p = interpolate.BarycentricInterpolator(x, fx)\n",
    "# plot the interpolant and the true function\n",
    "t = np.linspace(-1, 1, 1000)\n",
    "true = runge(t)\n",
    "interp = p(t)\n",
    "plt.plot(t, true, label=\"True function value\")\n",
    "plt.plot(t, interp, label=\"Barycentric Interpolant\")\n",
    "plt.legend()\n",
    "plt.title(\"Comparing true Runge function with barycentric interpolant\")\n",
    "plt.show()"
   ]
  },
  {
   "cell_type": "markdown",
   "id": "d581f9dd-b1a8-4b4e-859e-46984e371389",
   "metadata": {},
   "source": [
    "As we can see from the plot, the Barycentric interpolant did not work well near the endpoints $\\pm 1$. This occurs for two reasons:\n",
    "1. The higher-order derivatives of the function are large at the endpoints. \n",
    "2. The part of the error term $\\Pi^n_{i=0} (x-x_i)$ also becomes large near the endpoints.\n",
    "This leads to the huge deviations from the true function around $\\pm 1$."
   ]
  },
  {
   "cell_type": "markdown",
   "id": "f172db9c-d8c0-43ba-82bc-ba17bce814f1",
   "metadata": {},
   "source": [
    "## Question 9\n",
    "Repeat the above experiment using Chebyshev points (i.e. interpolate Runge’s function at\n",
    "$n + 1$ Chebyshev points for $n = 10$). Plot the true $f(x)$ and your new interpolant $p(x)$ and compare to your previous result."
   ]
  },
  {
   "cell_type": "code",
   "execution_count": 17,
   "id": "d24fedea-c06a-499a-be05-bda0f2c9c969",
   "metadata": {},
   "outputs": [],
   "source": [
    "def chebyshev_points(n):\n",
    "    '''\n",
    "    Returns a vector of the Chebyshev points for interpolation to polynomials of degree n\n",
    "    The vector has length n+1.\n",
    "    '''\n",
    "    points = []\n",
    "    for i in range(n+1):\n",
    "        points.append(math.cos(math.pi*(2*i+1)/(2*n+2)))\n",
    "    return np.array(points)"
   ]
  },
  {
   "cell_type": "code",
   "execution_count": 63,
   "id": "d04b98e2-91d8-44af-a4f6-63560e92cd64",
   "metadata": {},
   "outputs": [
    {
     "data": {
      "image/png": "[encoded data removed]",
      "text/plain": [
       "<Figure size 432x288 with 1 Axes>"
      ]
     },
     "metadata": {
      "needs_background": "light"
     },
     "output_type": "display_data"
    }
   ],
   "source": [
    "# select interpolation nodes\n",
    "x = chebyshev_points(10) # equally spaced nodes\n",
    "fx = runge(x) # evaluate runge's function at each node\n",
    "# build interpolant for data (x, fx)\n",
    "p = interpolate.BarycentricInterpolator(x, fx)\n",
    "# plot the interpolant and the true function\n",
    "t = np.linspace(-1.05, 1.05, 1000)\n",
    "true = runge(t)\n",
    "interp = p(t)\n",
    "plt.plot(t, true, label=\"True function value\")\n",
    "plt.plot(t, interp, label=\"Barycentric Interpolant\")\n",
    "plt.axvline(x = -1, color = 'black', linestyle = '--')\n",
    "plt.axvline(x = 1, color = 'black', linestyle = '--')\n",
    "plt.legend()\n",
    "plt.title(\"Comparing Runge function with interpolant (using Chebyshev points)\")\n",
    "plt.show()"
   ]
  },
  {
   "cell_type": "markdown",
   "id": "79ca64ae-fa1d-4463-b5b2-83987cfa1c73",
   "metadata": {},
   "source": [
    "## Question 10\n",
    "Repeat the above experiment using 11 equally spaced points in $[−1, 1]$ and a cubic spline\n",
    "with “not-a-knot” extra conditions. Plot $f(x)$ and your new interpolant and compare to your result for polynomial interpolation with equally spaced points."
   ]
  },
  {
   "cell_type": "code",
   "execution_count": 58,
   "id": "42a383c3-fff1-41ab-9014-a234143b1d34",
   "metadata": {},
   "outputs": [
    {
     "data": {
      "image/png": "[encoded data removed]",
      "text/plain": [
       "<Figure size 432x288 with 1 Axes>"
      ]
     },
     "metadata": {
      "needs_background": "light"
     },
     "output_type": "display_data"
    }
   ],
   "source": [
    "from scipy.interpolate import CubicSpline\n",
    "%matplotlib inline\n",
    "\n",
    "# select interpolation nodes\n",
    "x = np.linspace(-1, 1, 11) # equally spaced nodes\n",
    "fx = runge(x) # evaluate runge's function at each node\n",
    "# build interpolant for data (x, fx)\n",
    "p = CubicSpline(x, fx, bc_type='not-a-knot')\n",
    "# plot the interpolant and the true function\n",
    "t = np.linspace(-1.5, 1.5, 1000)\n",
    "true = runge(t)\n",
    "interp = p(t)\n",
    "plt.plot(t, true, label=\"True function value\")\n",
    "plt.plot(t, interp, label=\"Cubic spline\")\n",
    "plt.legend()\n",
    "plt.axvline(x = -1, color = 'black', linestyle = '--')\n",
    "plt.axvline(x = 1, color = 'black', linestyle = '--')\n",
    "plt.title(\"Comparing Runge function with cubic spline\")\n",
    "plt.show()"
   ]
  },
  {
   "cell_type": "markdown",
   "id": "6f5be352-7f0d-445d-ab82-d5cd4d116e73",
   "metadata": {},
   "source": [
    "The cubic spline much better interpolates the data with evenly spaced points than a barycentric interpolant. The error between the spline and the function also increases much more slowly outside the original interpolation range than the barycentric polynomial."
   ]
  },
  {
   "cell_type": "code",
   "execution_count": null,
   "id": "b4589db2-d51e-4bb2-b889-aa3feb261770",
   "metadata": {},
   "outputs": [],
   "source": []
  }
 ],
 "metadata": {
  "kernelspec": {
   "display_name": "Python 3 (ipykernel)",
   "language": "python",
   "name": "python3"
  },
  "language_info": {
   "codemirror_mode": {
    "name": "ipython",
    "version": 3
   },
   "file_extension": ".py",
   "mimetype": "text/x-python",
   "name": "python",
   "nbconvert_exporter": "python",
   "pygments_lexer": "ipython3",
   "version": "3.9.7"
  }
 },
 "nbformat": 4,
 "nbformat_minor": 5
}
