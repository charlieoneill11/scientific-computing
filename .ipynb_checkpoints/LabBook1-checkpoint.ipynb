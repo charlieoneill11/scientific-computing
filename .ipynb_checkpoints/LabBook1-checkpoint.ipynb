{
 "cells": [
  {
   "cell_type": "markdown",
   "id": "6e62c4b3-4e24-45fe-9e23-d726f1e918de",
   "metadata": {},
   "source": [
    "# Lab Book 2"
   ]
  },
  {
   "cell_type": "code",
   "execution_count": 5,
   "id": "459b760b-d4ce-442f-821c-1f9020198f10",
   "metadata": {},
   "outputs": [],
   "source": [
    "import numpy as np"
   ]
  },
  {
   "cell_type": "markdown",
   "id": "95f32210-c368-4783-b9b6-4e909669019a",
   "metadata": {},
   "source": [
    "## Question 1\n",
    "Given a complex number in Python how do we extract its real and imaginary parts?"
   ]
  },
  {
   "cell_type": "code",
   "execution_count": 7,
   "id": "90a88732-b625-4c1b-ae74-f15beba6fbbf",
   "metadata": {},
   "outputs": [],
   "source": [
    "z = 1 + 2j"
   ]
  },
  {
   "cell_type": "markdown",
   "id": "db4a1f02-0eef-4b76-bc5d-5655d6583401",
   "metadata": {},
   "source": [
    "To find the real part, we call `z.real`:"
   ]
  },
  {
   "cell_type": "code",
   "execution_count": 8,
   "id": "8ec4dc6c-41ce-456d-a637-b42108d21a9b",
   "metadata": {},
   "outputs": [
    {
     "data": {
      "text/plain": [
       "1.0"
      ]
     },
     "execution_count": 8,
     "metadata": {},
     "output_type": "execute_result"
    }
   ],
   "source": [
    "z.real"
   ]
  },
  {
   "cell_type": "markdown",
   "id": "f748f5f5-30d5-4434-9b2f-54452833fb8c",
   "metadata": {},
   "source": [
    "Similarly for the imaginary part:"
   ]
  },
  {
   "cell_type": "code",
   "execution_count": 9,
   "id": "8960fcaf-4389-4434-9758-db5c8a654ca9",
   "metadata": {},
   "outputs": [
    {
     "data": {
      "text/plain": [
       "2.0"
      ]
     },
     "execution_count": 9,
     "metadata": {},
     "output_type": "execute_result"
    }
   ],
   "source": [
    "z.imag"
   ]
  },
  {
   "cell_type": "markdown",
   "id": "736e6856-5fcf-4a49-bd2a-97b1202c442b",
   "metadata": {},
   "source": [
    "## Question 2\n",
    "Use Python’s complex numbers functionality to check Euler’s identity $e^{i\\pi} = −1$ and the\n",
    "identity $re^{i\\theta} = r[cos(\\theta) + isin(\\theta)]$ for some choice of $r, \\theta \\in \\mathbb{R}$."
   ]
  },
  {
   "cell_type": "code",
   "execution_count": 10,
   "id": "aca25c85-0658-466f-bd7c-e17bd445f7c5",
   "metadata": {},
   "outputs": [
    {
     "data": {
      "text/plain": [
       "(-1+1.2246467991473532e-16j)"
      ]
     },
     "execution_count": 10,
     "metadata": {},
     "output_type": "execute_result"
    }
   ],
   "source": [
    "e = math.exp(1)\n",
    "e**(complex(0, 1) * math.pi)"
   ]
  },
  {
   "cell_type": "markdown",
   "id": "b8e1df8a-65ee-4802-9faa-3388918e7fb4",
   "metadata": {},
   "source": [
    "This is approximately -1 (inaccuracy due to floating point error). So, the identity is verified.\n",
    "\n",
    "We now check the second identity. We choose arbitrary values of $r = 1$ and $\\theta = \\frac\\pi4$:"
   ]
  },
  {
   "cell_type": "code",
   "execution_count": 12,
   "id": "d1659b89-882b-4707-99b1-3af91d1974d7",
   "metadata": {},
   "outputs": [
    {
     "data": {
      "text/plain": [
       "0j"
      ]
     },
     "execution_count": 12,
     "metadata": {},
     "output_type": "execute_result"
    }
   ],
   "source": [
    "r = 1\n",
    "theta = np.pi/4\n",
    "\n",
    "z1 = r * np.exp(1j * theta)\n",
    "z2 = r * (np.cos(theta) + 1j * np.sin(theta))\n",
    "\n",
    "z1-z2"
   ]
  },
  {
   "cell_type": "markdown",
   "id": "6584cdb7-45a0-4e4d-b0ac-0945c7713607",
   "metadata": {
    "tags": []
   },
   "source": [
    "## Question 3\n",
    "Given a vector `x`, write code which sets all elements of `x` to zero except the first and last\n",
    "elements, which should stay unchanged. Verify that your code works on a test vector of your choice."
   ]
  },
  {
   "cell_type": "code",
   "execution_count": 13,
   "id": "f94b02fe-78ee-4d6e-bf53-47cef0237d6b",
   "metadata": {},
   "outputs": [
    {
     "data": {
      "text/plain": [
       "array([1., 0., 0., 3.])"
      ]
     },
     "execution_count": 13,
     "metadata": {},
     "output_type": "execute_result"
    }
   ],
   "source": [
    "def zero_except(x):\n",
    "    for i in range(1, len(x)-1):\n",
    "        x[i] = 0\n",
    "    return x\n",
    "\n",
    "x = np.array([1.0, 2.0, 2.5, 3.0])\n",
    "zero_except(x)"
   ]
  },
  {
   "cell_type": "markdown",
   "id": "d5907b1d-2d82-43c8-9ff3-cbc80c2521ed",
   "metadata": {},
   "source": [
    "## Question 4\n",
    "What does NumPy do when you try to combine two vectors of different lengths using the\n",
    "above operations? Do you think this is a sensible choice (briefly explain your answer)?\n",
    "\n",
    "We get the `ValueError: operands could not be broadcast together with shapes (x,) (y,)`. I think this is a sensible choice, as the error also provides information about what the shapes of the vectors actually are. In regard to whether it should throw an error at all, I think an error is sensible. Whilst numpy uses broadcasting to perform arithmetic vectorised operations on different sized arrays, these still have to obey some intuitive rules about how we might combine vectors of different shapes (i.e. adding a row vector to a matrix, we might just add that vector to each row). However, when we simply have two vectors of different sizes, there is no intuitive way to combine them. "
   ]
  },
  {
   "cell_type": "code",
   "execution_count": 16,
   "id": "19e5beae-1147-4389-83c5-ce43f0924a75",
   "metadata": {},
   "outputs": [
    {
     "ename": "ValueError",
     "evalue": "operands could not be broadcast together with shapes (3,) (4,) ",
     "output_type": "error",
     "traceback": [
      "\u001b[0;31m---------------------------------------------------------------------------\u001b[0m",
      "\u001b[0;31mValueError\u001b[0m                                Traceback (most recent call last)",
      "\u001b[0;32m/var/folders/k4/z1fdqs457dx3kgvlgz2mxrz80000gn/T/ipykernel_82328/1114098630.py\u001b[0m in \u001b[0;36m<module>\u001b[0;34m\u001b[0m\n\u001b[1;32m      2\u001b[0m \u001b[0my\u001b[0m \u001b[0;34m=\u001b[0m \u001b[0mnp\u001b[0m\u001b[0;34m.\u001b[0m\u001b[0marray\u001b[0m\u001b[0;34m(\u001b[0m\u001b[0;34m[\u001b[0m\u001b[0;36m1.\u001b[0m\u001b[0;34m,\u001b[0m \u001b[0;36m2.\u001b[0m\u001b[0;34m,\u001b[0m \u001b[0;36m3.\u001b[0m\u001b[0;34m,\u001b[0m \u001b[0;36m4.\u001b[0m\u001b[0;34m]\u001b[0m\u001b[0;34m)\u001b[0m\u001b[0;34m\u001b[0m\u001b[0;34m\u001b[0m\u001b[0m\n\u001b[1;32m      3\u001b[0m \u001b[0;34m\u001b[0m\u001b[0m\n\u001b[0;32m----> 4\u001b[0;31m \u001b[0mx\u001b[0m \u001b[0;34m+\u001b[0m \u001b[0my\u001b[0m\u001b[0;34m\u001b[0m\u001b[0;34m\u001b[0m\u001b[0m\n\u001b[0m\u001b[1;32m      5\u001b[0m \u001b[0;31m# we get the same error message for each arithmetic operation\u001b[0m\u001b[0;34m\u001b[0m\u001b[0;34m\u001b[0m\u001b[0m\n\u001b[1;32m      6\u001b[0m \u001b[0;31m# x * y\u001b[0m\u001b[0;34m\u001b[0m\u001b[0;34m\u001b[0m\u001b[0m\n",
      "\u001b[0;31mValueError\u001b[0m: operands could not be broadcast together with shapes (3,) (4,) "
     ]
    }
   ],
   "source": [
    "x = np.array([2., 3., 4.])\n",
    "y = np.array([1., 2., 3., 4.])\n",
    "\n",
    "x + y   \n",
    "# we get the same error message for each arithmetic operation\n",
    "# x * y   \n",
    "# x / y"
   ]
  },
  {
   "cell_type": "markdown",
   "id": "60be012b-2383-4742-b392-20a0bb3e3580",
   "metadata": {},
   "source": [
    "## Question 5\n",
    "Given two vectors $x, y \\in \\mathbb{R}^n$ with $y \\neq 0$, we can always write $x = v_1 + v_2$, where $v_1$ is a vector parallel to $y$ and $v_2$ is a vector orthogonal to $y$. Write code which, given NumPy vectors $x$ and $y$, calculates $v_1$ and $v_2$. Your code should work for vectors of any dimension $n$. By running your code on test vectors `x = np.array([2.0, -3.0])` and `y = np.array([1.0, 1.0])`, show that your function produces the correct answer."
   ]
  },
  {
   "cell_type": "code",
   "execution_count": 17,
   "id": "658a2a51-b437-4daf-8ee2-543f2450434b",
   "metadata": {},
   "outputs": [],
   "source": [
    "def vector_decomposition(x, y):\n",
    "    v1 = y * (x.T @ y)/(y.T @ y)\n",
    "    v2 = x - v1                \n",
    "    return v1, v2"
   ]
  },
  {
   "cell_type": "markdown",
   "id": "9b0cfc96-b83e-49e0-a476-80026965e274",
   "metadata": {},
   "source": [
    "Now we test the function on the provided vectors. We need to check two things:\n",
    "1. $x = v_1 + v_2$\n",
    "2. $v_1$ is parallel to $y$\n",
    "3. $v_2$ is orthogonal to $y$"
   ]
  },
  {
   "cell_type": "code",
   "execution_count": 23,
   "id": "aa28d4b2-e6a2-4e42-b2f9-b993780eca5c",
   "metadata": {},
   "outputs": [
    {
     "data": {
      "text/plain": [
       "(array([-0.5, -0.5]), array([ 2.5, -2.5]))"
      ]
     },
     "execution_count": 23,
     "metadata": {},
     "output_type": "execute_result"
    }
   ],
   "source": [
    "x = np.array([2.0, -3.0])\n",
    "y = np.array([1.0, 1.0])\n",
    "\n",
    "v1, v2 = vector_decomposition(x, y)\n",
    "v1, v2"
   ]
  },
  {
   "cell_type": "code",
   "execution_count": 27,
   "id": "577fec9c-2c4d-4913-bb27-5c3ea00971ee",
   "metadata": {},
   "outputs": [
    {
     "data": {
      "text/plain": [
       "0.0"
      ]
     },
     "execution_count": 27,
     "metadata": {},
     "output_type": "execute_result"
    }
   ],
   "source": [
    "# test x = v1 + v2\n",
    "np.linalg.norm(x - (v1 + v2))"
   ]
  },
  {
   "cell_type": "code",
   "execution_count": 29,
   "id": "cf5dc3d7-a3d7-46f4-8e64-fccc9022d398",
   "metadata": {},
   "outputs": [
    {
     "data": {
      "text/plain": [
       "0.0"
      ]
     },
     "execution_count": 29,
     "metadata": {},
     "output_type": "execute_result"
    }
   ],
   "source": [
    "# test v1 is parallel to y\n",
    "v1_hat = -v1/(np.linalg.norm(v1)) \n",
    "y_hat = y/(np.linalg.norm(y))\n",
    "np.linalg.norm(v1_hat - y_hat) "
   ]
  },
  {
   "cell_type": "code",
   "execution_count": 30,
   "id": "c53b76f0-7b56-4987-b536-8047ad642a14",
   "metadata": {},
   "outputs": [
    {
     "data": {
      "text/plain": [
       "0.0"
      ]
     },
     "execution_count": 30,
     "metadata": {},
     "output_type": "execute_result"
    }
   ],
   "source": [
    "# test v2 is orthogonal to y\n",
    "y.T @ v2 # will be orthogonal when dot product is 0"
   ]
  },
  {
   "cell_type": "markdown",
   "id": "9be886e1-0c33-4120-81bb-0b21312088e5",
   "metadata": {},
   "source": [
    "Since all checks are satisfied, the function works."
   ]
  },
  {
   "cell_type": "markdown",
   "id": "188d2b5b-b940-4979-91f9-71ef823849e1",
   "metadata": {},
   "source": [
    "## Question 6\n",
    "How would you calculate the determinant of the top-left `2 × 2` block of a `10 × 10` matrix?"
   ]
  },
  {
   "cell_type": "code",
   "execution_count": 26,
   "id": "9170d10d-4e02-4ffe-9453-90cb4a4e0c8d",
   "metadata": {},
   "outputs": [
    {
     "name": "stdout",
     "output_type": "stream",
     "text": [
      "-3.0\n"
     ]
    }
   ],
   "source": [
    "m = np.ones((10, 10))\n",
    "for i in range(3):\n",
    "    m[0][i] = i+1\n",
    "    m[i][0] = i+1\n",
    "block_m = m[0:2, 0:2]\n",
    "ad = (block_m[0, 0]*block_m[1, 1])\n",
    "bc = (block_m[1, 0]*block_m[0, 1])\n",
    "det = ad - bc\n",
    "print(det)"
   ]
  },
  {
   "cell_type": "markdown",
   "id": "1a8f6225-b180-4fd4-8aaa-b7fef49274ff",
   "metadata": {},
   "source": [
    "We could also use the `np.linalg.det` function to find the determinant and save ourselves some calculation."
   ]
  },
  {
   "cell_type": "markdown",
   "id": "9ea829cf-8a99-466b-aec3-59e07add8a48",
   "metadata": {},
   "source": [
    "## Question 7\n",
    "Recall that the trace of a square matrix is the sum of the diagonal entries: if $A \\in \\mathbb{R}\n",
    "^{n\\times n}$ then $trace(A) = \\sum_{i=1}^n A_{i,i}$.\n",
    "(a) Write your own function to compute the trace of a matrix that does\n",
    "not use any loops (i.e. only using fast NumPy functions); \n",
    "(b) Use your function to check the identity trace(AT A) = Pm\n",
    "for a rectangular matrix $A \\in \\mathbb{R}^{m\\times n}$ of your choice. \n",
    "(c) Prove this identity mathematically."
   ]
  },
  {
   "cell_type": "code",
   "execution_count": 31,
   "id": "ec95c17e-db05-4ec5-bc12-706ce4f5ae99",
   "metadata": {},
   "outputs": [
    {
     "name": "stdout",
     "output_type": "stream",
     "text": [
      "2.3514366030884033 2.3514366030884037\n"
     ]
    }
   ],
   "source": [
    "# PART A\n",
    "def trace(A): return A.diagonal().sum()\n",
    "\n",
    "# PART B\n",
    "A = np.random.rand(3,2)\n",
    "new_m = A@A.T\n",
    "\n",
    "def check_identity(A):\n",
    "    total = 0\n",
    "    for i in range(A.shape[0]):\n",
    "        for j in range(A.shape[1]):\n",
    "            total += A[i][j]**2\n",
    "    return total\n",
    "\n",
    "total = check_identity(A)\n",
    "print(total, trace(new_m))\n",
    "\n",
    "# PART C"
   ]
  },
  {
   "cell_type": "markdown",
   "id": "52671f2a-c13b-49a2-9d22-488e6e712d81",
   "metadata": {},
   "source": [
    "## Question 8\n",
    "Write code to test what happens if you try to solve a linear system with a singular matrix?\n",
    "Do you think this is sensible (briefly explain your answer)?"
   ]
  },
  {
   "cell_type": "code",
   "execution_count": 33,
   "id": "9620f5fd-f8ca-4a0e-af98-48a3b6502589",
   "metadata": {},
   "outputs": [],
   "source": [
    "A = np.array([[2.0, 3.0], [2.0, 3.0]])\n",
    "b = np.array([3.5, 6.5])\n",
    "#x = np.linalg.solve(A, b)"
   ]
  },
  {
   "cell_type": "markdown",
   "id": "6fb3f39c-d5b3-43a8-a62e-8032bb594d31",
   "metadata": {},
   "source": [
    "If you uncomment the code above and run it, you get a `LinAlgError` saying `Singular matrix`. This is reasonable, as singular matrices are likely an error on the part of the programmer in an earlier stage of the code. Attempting to solve the singular matrix without providing an error may cause the programmer to miss such errors."
   ]
  },
  {
   "cell_type": "markdown",
   "id": "794e9e4f-2340-4b05-9f4a-bd1168ab2459",
   "metadata": {},
   "source": [
    "## Question 9\n",
    "Write code which generates the `15 × 15` Hilbert matrix `A`, and creates the vector `b` which\n",
    "is the first column of `A`. Mathematically, what is the true solution to `Ax = b`? Solve the linear system `Ax = b` using `np.linalg.solve` and by calculating $A^{−1}b$. What do you observe?"
   ]
  },
  {
   "cell_type": "code",
   "execution_count": 80,
   "id": "4b965866-5d96-4ad6-b287-e0b219e67368",
   "metadata": {},
   "outputs": [
    {
     "data": {
      "text/plain": [
       "array([[0., 0.],\n",
       "       [0., 0.]])"
      ]
     },
     "execution_count": 80,
     "metadata": {},
     "output_type": "execute_result"
    }
   ],
   "source": [
    "np.zeros([2,2])"
   ]
  },
  {
   "cell_type": "code",
   "execution_count": 39,
   "id": "899ebcd7-22e0-45dd-b014-9ab5a4c32ce9",
   "metadata": {},
   "outputs": [],
   "source": [
    "def hilbert_matrix(a, b):\n",
    "    hi = np.zeros((a,b))\n",
    "    for i in range(a):\n",
    "        for j in range(b):\n",
    "            hi[i,j] = 1 / (i + j + 1)\n",
    "    return hi"
   ]
  },
  {
   "cell_type": "code",
   "execution_count": 43,
   "id": "0ee62647-5a5e-46f7-bce6-63bfa0164cc1",
   "metadata": {},
   "outputs": [],
   "source": [
    "A = hilbert_matrix(15, 15)\n",
    "b = A[:,0]"
   ]
  },
  {
   "cell_type": "markdown",
   "id": "30c9f0ea-c1af-4f86-a9f6-29f8193d278c",
   "metadata": {},
   "source": [
    "Mathematically, the solution is:\n",
    "$$\n",
    "x = (1,0,0,\\dots, 0)^T\n",
    "$$\n",
    "As then $Ax$ is the first column of $A$.\n",
    "\n",
    "Solving using $A^{-1}b$:"
   ]
  },
  {
   "cell_type": "code",
   "execution_count": 44,
   "id": "70ebc3c7-61e2-40d6-8895-8a9519b20e8c",
   "metadata": {},
   "outputs": [
    {
     "data": {
      "text/plain": [
       "array([ 3.93460184e-01, -1.20886230e+00,  7.88732910e+00,  6.01191406e+01,\n",
       "       -3.28953125e+02,  6.85125000e+02, -8.15500000e+02,  6.03000000e+02,\n",
       "       -2.38000000e+02, -5.00000000e+00,  4.90000000e+01, -2.20000000e+01,\n",
       "        3.00000000e+00, -1.00000000e+00,  0.00000000e+00])"
      ]
     },
     "execution_count": 44,
     "metadata": {},
     "output_type": "execute_result"
    }
   ],
   "source": [
    "np.linalg.inv(A) @ b"
   ]
  },
  {
   "cell_type": "markdown",
   "id": "ba575a93-76cb-46ce-a353-6bbe1846646e",
   "metadata": {},
   "source": [
    "And now solving using numpy:"
   ]
  },
  {
   "cell_type": "code",
   "execution_count": 45,
   "id": "4338241f-ffe3-442d-8474-60afe8a896fc",
   "metadata": {},
   "outputs": [
    {
     "data": {
      "text/plain": [
       "array([ 1.,  0.,  0.,  0.,  0.,  0., -0.,  0., -0.,  0., -0., -0.,  0.,\n",
       "       -0.,  0.])"
      ]
     },
     "execution_count": 45,
     "metadata": {},
     "output_type": "execute_result"
    }
   ],
   "source": [
    "np.linalg.solve(A,b)"
   ]
  },
  {
   "cell_type": "markdown",
   "id": "75654579-23f6-4dea-bd92-662b367806cc",
   "metadata": {},
   "source": [
    "Whilst our attempt to solve using $A^{-1}b$ gives an a result that is erroneous by a considerable margin, using `np.linalg.solve` gives the correct answer. We hypothesise that this is due to the ill-conditioned Hilbert matrix."
   ]
  },
  {
   "cell_type": "markdown",
   "id": "762cddb1-68e3-42e5-b4df-f172599be1db",
   "metadata": {},
   "source": [
    "## Question 10\n",
    "Plot the above data with the points shown as green squares and with a dashed line, and\n",
    "show the figure in your lab book."
   ]
  },
  {
   "cell_type": "code",
   "execution_count": 87,
   "id": "0d737676-a65f-42a0-851f-54c9158427ce",
   "metadata": {},
   "outputs": [
    {
     "data": {
      "image/png": "[encoded data removed]",
      "text/plain": [
       "<Figure size 432x288 with 1 Axes>"
      ]
     },
     "metadata": {
      "needs_background": "light"
     },
     "output_type": "display_data"
    }
   ],
   "source": [
    "import matplotlib.pyplot as plt\n",
    "\n",
    "x = np.array([0.5, 0.7, 0.9, 1.3, 1.7, 1.8])\n",
    "y = np.array([0.1, 0.2, 0.75, 1.5, 2.1, 2.4])\n",
    "\n",
    "plt.figure()\n",
    "plt.clf()\n",
    "plt.plot(x, y, color='g', linestyle=':', linewidth=2, marker='s', markersize=10)\n",
    "plt.show()"
   ]
  },
  {
   "cell_type": "markdown",
   "id": "8a43d7c8-7c9a-4301-a1de-7722ed3fd527",
   "metadata": {},
   "source": [
    "## Question 11\n",
    "Add reasonable plot titles, gridlines and set some axis limits to the trendline plot above,\n",
    "and show the resulting figure in your lab book."
   ]
  },
  {
   "cell_type": "code",
   "execution_count": 92,
   "id": "0c1c6cb7-ee33-4fc5-ac94-4717864468de",
   "metadata": {},
   "outputs": [
    {
     "data": {
      "image/png": "[encoded data removed]",
      "text/plain": [
       "<Figure size 432x288 with 1 Axes>"
      ]
     },
     "metadata": {
      "needs_background": "light"
     },
     "output_type": "display_data"
    }
   ],
   "source": [
    "# store the trend lines as numpy arrays\n",
    "x_trend = np.array([0.5, 2.0])\n",
    "y_trend = np.array([0.0, 2.7])\n",
    "\n",
    "# construct the plot\n",
    "plt.figure()\n",
    "plt.clf()\n",
    "plt.plot(x, y, 'r.', markersize=10, label = 'Data')   # plot raw data from above as red dots\n",
    "plt.plot(x_trend, y_trend, 'b--', label = 'Trend line') # trend line is dashed blue line\n",
    "plt.legend()  # display legend\n",
    "\n",
    "# basic formatting\n",
    "plt.xlabel('x')\n",
    "plt.ylabel('y')\n",
    "plt.title('Trend line of X vs Y')\n",
    "\n",
    "# set axis limits and show plot\n",
    "plt.xlim(0.5, 2.0)\n",
    "plt.ylim(0, 3) \n",
    "plt.grid()\n",
    "plt.show()"
   ]
  },
  {
   "cell_type": "markdown",
   "id": "00872617-0075-4d2f-bcd4-a38b9136d396",
   "metadata": {},
   "source": [
    "## Question 12\n",
    "Plot the graphs of $f(x) = 1/(1 + e^{ax})$ for $x \\in [−4, 4]$, where $a = 0.5, 1, 2$, all in one\n",
    "figure (with appropriate legends and axis ranges)."
   ]
  },
  {
   "cell_type": "code",
   "execution_count": 60,
   "id": "4ec662ec-88e7-406b-aea4-d3cca96e124b",
   "metadata": {},
   "outputs": [
    {
     "data": {
      "image/png": "[encoded data removed]",
      "text/plain": [
       "<Figure size 432x288 with 1 Axes>"
      ]
     },
     "metadata": {
      "needs_background": "light"
     },
     "output_type": "display_data"
    }
   ],
   "source": [
    "# generate the x axis\n",
    "x = np.linspace(-5, 5, 101)\n",
    "\n",
    "# define the function\n",
    "def f(a): return 1 / (1 + np.exp(x * a))\n",
    "\n",
    "plt.figure()\n",
    "plt.clf()\n",
    "plt.plot(x, fx(0.5), label = 'a = 0.5')\n",
    "plt.plot(x, fx(1), label = 'a = 1')\n",
    "plt.plot(x, fx(2), label = 'a = 2')\n",
    "plt.legend(loc = 'best')\n",
    "plt.xlim(-5,5)\n",
    "plt.ylim(0,1)\n",
    "plt.title('Plot of f(x)=1/(1+e^(ax)) for various a')\n",
    "plt.xlabel('x')\n",
    "plt.ylabel('f(x)')\n",
    "plt.show()"
   ]
  },
  {
   "cell_type": "markdown",
   "id": "c8e95666-8535-445d-8f25-56bb62bca681",
   "metadata": {},
   "source": [
    "## Question 13\n",
    "Read this data into a NumPy vector, and calculate a new vector which has the 7-day moving\n",
    "average of new cases. Make a plot showing both data series with appropriate legends/axis labels, etc."
   ]
  },
  {
   "cell_type": "code",
   "execution_count": 64,
   "id": "ccc4475e-1405-461d-9f86-04252d721491",
   "metadata": {},
   "outputs": [
    {
     "data": {
      "text/plain": [
       "array([31, 42, 24, 31, 17])"
      ]
     },
     "execution_count": 64,
     "metadata": {},
     "output_type": "execute_result"
    }
   ],
   "source": [
    "covid = np.loadtxt(\"lab1_nsw_covid_case_data.csv\", dtype=int)\n",
    "covid[0:5]"
   ]
  },
  {
   "cell_type": "markdown",
   "id": "2f084a6b-f9be-4fb6-9a13-48353ece8301",
   "metadata": {},
   "source": [
    "We now define our moving average function. We use the cumulative sum function in numpy to calculate a `cumsum` vector. We then slice this vector by indexing with our `n=7`, and finally return the 6th value onwards divided by 7."
   ]
  },
  {
   "cell_type": "code",
   "execution_count": 83,
   "id": "ff11c629-8488-449f-80ab-d0bedf03ba3f",
   "metadata": {},
   "outputs": [],
   "source": [
    "def moving_average(cases, n=7):\n",
    "    mov_cases = np.cumsum(cases, dtype=float)\n",
    "    mov_cases[n:] = mov_cases[n:] - mov_cases[:-n]\n",
    "    return mov_cases[n - 1:] / n"
   ]
  },
  {
   "cell_type": "markdown",
   "id": "f4e523c7-01a0-48b4-950a-d549fa137e63",
   "metadata": {},
   "source": [
    "We can use this to plot the moving average on top of the original data."
   ]
  },
  {
   "cell_type": "code",
   "execution_count": 85,
   "id": "af44361a-7f62-4fd5-a1a0-d8c94dab607d",
   "metadata": {},
   "outputs": [
    {
     "data": {
      "image/png": "[encoded data removed]",
      "text/plain": [
       "<Figure size 432x288 with 1 Axes>"
      ]
     },
     "metadata": {
      "needs_background": "light"
     },
     "output_type": "display_data"
    }
   ],
   "source": [
    "# set x axes range for plotting\n",
    "x = [x for x in range(len(covid))]\n",
    "x2 = [x for x in range(6, len(covid))]\n",
    "# plot\n",
    "plt.plot(x, covid, label=\"Total Daily Cases Reported\")\n",
    "plt.plot(x2, moving_average(covid), label=\"7 Day Moving Average of Cases\")\n",
    "# formatting\n",
    "plt.legend()\n",
    "plt.ylabel(\"Cases\")\n",
    "plt.xlabel(\"Days since 1 July 2021\")\n",
    "plt.show()"
   ]
  },
  {
   "cell_type": "code",
   "execution_count": null,
   "id": "e15ca00d-ed46-4ff6-9e24-cfd34d25a58c",
   "metadata": {},
   "outputs": [],
   "source": []
  }
 ],
 "metadata": {
  "kernelspec": {
   "display_name": "Python 3 (ipykernel)",
   "language": "python",
   "name": "python3"
  },
  "language_info": {
   "codemirror_mode": {
    "name": "ipython",
    "version": 3
   },
   "file_extension": ".py",
   "mimetype": "text/x-python",
   "name": "python",
   "nbconvert_exporter": "python",
   "pygments_lexer": "ipython3",
   "version": "3.9.7"
  }
 },
 "nbformat": 4,
 "nbformat_minor": 5
}
