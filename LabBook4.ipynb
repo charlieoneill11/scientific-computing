{
 "cells": [
  {
   "cell_type": "markdown",
   "id": "3b51b2fd-bb5d-4276-90d0-59e60ddb53ff",
   "metadata": {},
   "source": [
    "# MATH3511 Scientific Computing Lab Book 4"
   ]
  },
  {
   "cell_type": "markdown",
   "id": "c6b45c2f-caa6-4a22-befd-c88957565a6d",
   "metadata": {},
   "source": [
    "## Norms and conditioning"
   ]
  },
  {
   "cell_type": "markdown",
   "id": "48a15d19-9f04-411a-9f53-5e12d2d93ca8",
   "metadata": {},
   "source": [
    "### Question 1\n",
    "By reading the documentation for `np.linalg.norm`, calculate the infinity norm of $x$ and\n",
    "the Frobenius norm of $A$ (for $x$ and $A$ as given in the above code). What is the ‘default’ choice for `ord` (i.e. what do you get if you just calculate `np.linalg.norm(x)` or `np.linalg.norm(A)`)?"
   ]
  },
  {
   "cell_type": "code",
   "execution_count": 6,
   "id": "f747387e-13bc-46db-950a-7991e68f52f0",
   "metadata": {},
   "outputs": [
    {
     "data": {
      "text/plain": [
       "(0.9893582466233818, 122.10651088291729)"
      ]
     },
     "execution_count": 6,
     "metadata": {},
     "output_type": "execute_result"
    }
   ],
   "source": [
    "infinity_norm = np.linalg.norm(x, ord=np.inf)\n",
    "frobenius_norm = np.linalg.norm(A, ord='fro')\n",
    "infinity_norm, frobenius_norm"
   ]
  },
  {
   "cell_type": "markdown",
   "id": "98d45898-0f0f-4a66-a042-bb4582b20a14",
   "metadata": {},
   "source": [
    "From the documentation for `np.linalg.norm`, the default choice for `ord` depends on whether the normed object is a matrix or a vector. For matrices, the default norm is the Frobenius norm; for vectors, it's the 2-norm. (Note that the default value is actually `None` which gives these norms under the hood.)"
   ]
  },
  {
   "cell_type": "code",
   "execution_count": 7,
   "id": "88bd2a9e-9019-4237-931c-3932b302dfed",
   "metadata": {},
   "outputs": [
    {
     "name": "stdout",
     "output_type": "stream",
     "text": [
      "A = [[ 0  1  2  3  4  5]\n",
      " [ 6  7  8  9 10 11]\n",
      " [12 13 14 15 16 17]\n",
      " [18 19 20 21 22 23]\n",
      " [24 25 26 27 28 29]\n",
      " [30 31 32 33 34 35]]\n",
      "kappa(A) = 4.6592550593188274e+19\n"
     ]
    }
   ],
   "source": [
    "print(\"A =\", A)\n",
    "print(\"kappa(A) =\", np.linalg.cond(A)) # using operator 2-norm, but other norms available"
   ]
  },
  {
   "cell_type": "code",
   "execution_count": 9,
   "id": "34f35460-f881-4429-b4c9-bbbe34b81498",
   "metadata": {},
   "outputs": [
    {
     "name": "stdout",
     "output_type": "stream",
     "text": [
      "xtrue = [ 0  1  2  3  4  5  6  7  8  9 10 11 12 13 14 15 16 17 18 19 20]\n",
      "x = [2.83388203e-06 9.99944384e-01 2.00050785e+00 2.99713461e+00\n",
      " 4.01118805e+00 4.96791560e+00 6.06999458e+00 6.88128947e+00\n",
      " 8.15859417e+00 8.83191491e+00 1.01416322e+01 1.09053294e+01\n",
      " 1.20498616e+01 1.29795514e+01 1.40064110e+01 1.49985053e+01\n",
      " 1.60002485e+01 1.69999725e+01 1.80000018e+01 1.89999999e+01\n",
      " 2.00000000e+01]\n",
      "Condition number = 2.7092923333988035e+18\n"
     ]
    }
   ],
   "source": [
    "# Make a set of interpolation nodes (e.g. equally spaced in [0,2])\n",
    "n = 20\n",
    "xdata = np.linspace(0, 2, n+1)\n",
    "# Build the Vandermonde matrix (ill-conditioned)\n",
    "A = np.zeros((n+1,n+1))\n",
    "for i in range(n+1):\n",
    "    A[:,n-i] = xdata**i\n",
    "# Solve Ax=b for a right-hand side b where we know the true solution\n",
    "xtrue = np.arange(n+1)\n",
    "b = A @ xtrue\n",
    "x = np.linalg.solve(A, b) # solve using Gaussian Elimination with partial pivoting\n",
    "print(\"xtrue =\", xtrue)\n",
    "print(\"x =\", x)\n",
    "print(\"Condition number =\", np.linalg.cond(A))"
   ]
  },
  {
   "cell_type": "markdown",
   "id": "c354e9ab-fb51-4ce3-a144-64bd0d215c06",
   "metadata": {},
   "source": [
    "## Direct linear solvers"
   ]
  },
  {
   "cell_type": "markdown",
   "id": "0dc6a6ed-7d3c-44cd-8392-85274532d733",
   "metadata": {},
   "source": [
    "### Question 2\n",
    "Run the above code. What is the solution `x`? Check this by measuring the size of the\n",
    "residual $||Ax − b||_2$. By reading the documentation and the lecture notes, explain how `lu` and `piv` store the information in $P$ , $L$ and $U$."
   ]
  },
  {
   "cell_type": "code",
   "execution_count": 25,
   "id": "58a1f140-7722-4a06-97f9-e3b77b31b089",
   "metadata": {},
   "outputs": [
    {
     "name": "stdout",
     "output_type": "stream",
     "text": [
      "x = [-3. -5. -6. -6. -5. -3.]\n"
     ]
    }
   ],
   "source": [
    "import scipy.linalg as linalg\n",
    "\n",
    "# Create an example 6*6 linear system (related to elastic membranes)\n",
    "n = 6\n",
    "A = np.diag(np.ones(n-1), -1) - 2*np.diag(np.ones(n)) + np.diag(np.ones(n-1), 1)\n",
    "b = np.ones(n)\n",
    "\n",
    "# Calculate LU factorisation\n",
    "lu, piv = linalg.lu_factor(A)\n",
    "\n",
    "# Solve a linear system using a previously computed LU factorisation\n",
    "x = linalg.lu_solve((lu, piv), b)\n",
    "print(f\"x = {x}\")"
   ]
  },
  {
   "cell_type": "code",
   "execution_count": 26,
   "id": "a6c344e0-26d9-4c44-b85f-f3fc026e6206",
   "metadata": {},
   "outputs": [
    {
     "data": {
      "text/plain": [
       "1.9860273225978185e-15"
      ]
     },
     "execution_count": 26,
     "metadata": {},
     "output_type": "execute_result"
    }
   ],
   "source": [
    "# calculating the residual\n",
    "residual = (A @ x) - b\n",
    "np.linalg.norm(residual)"
   ]
  },
  {
   "cell_type": "markdown",
   "id": "03e3ae3d-b8bb-4077-98ec-4d5050106f99",
   "metadata": {},
   "source": [
    "Thus, the residual is very small, and our calculation of the solution `x` is accurate.\n",
    "\n",
    "There were two Scipy functions called to calculate our solution to the linear system above. We see from the documentation and lecture notes that `scipy.linalg.lu_factor` calculates the factorisation $A=PLU$. Because $L$ is a lower-triangular matrix (with diagonal entries of 1, so we can use the diagonal to store $U$'s diagonal) and $U$ is an upper-triangular matrix, Scipy stores $L$ and $U$ in one $n\\times n$ matrix. To further the efficiency of the function, the permutation matrix $P$ is stored as a vector of integers, representing the arrangement of the original rows in $P$. This function returns both the $LU$ matrix and the pivot $P$ matrix.\n",
    "\n",
    "We then pass these pre-calculated matrices to `scipy.linalg.solve` as a tuple, along with the original solution vector `b`. "
   ]
  },
  {
   "cell_type": "markdown",
   "id": "9c9ec54f-f77e-4182-9faa-90d03dbd842d",
   "metadata": {},
   "source": [
    "### Question 3\n",
    "Explain why the `np.linalg.solve` applied to the Hilbert matrix (as per the above code)\n",
    "produces such a bad answer."
   ]
  },
  {
   "cell_type": "code",
   "execution_count": 150,
   "id": "0178f512-6db2-4573-b9c0-54f5e417a632",
   "metadata": {},
   "outputs": [
    {
     "name": "stdout",
     "output_type": "stream",
     "text": [
      "Relative error of np.linalg.solve = 2.454904631651048\n"
     ]
    }
   ],
   "source": [
    "n = 15\n",
    "A = np.zeros((n,n))\n",
    "\n",
    "def hilbert_matrix(a, b):\n",
    "    hi = np.zeros((a,b))\n",
    "    for i in range(a):\n",
    "        for j in range(b):\n",
    "            hi[i,j] = 1 / (i + j + 1)\n",
    "    return hi\n",
    "\n",
    "A = hilbert_matrix(n, n)\n",
    "\n",
    "xtrue = np.ones((n,))\n",
    "b = A @ xtrue # RHS of Ax=b with known solution xtrue\n",
    "x = np.linalg.solve(A, b) # Gaussian Elimination with partial pivoting\n",
    "print(\"Relative error of np.linalg.solve =\", np.linalg.norm(x - xtrue) / np.linalg.norm(xtrue))"
   ]
  },
  {
   "cell_type": "markdown",
   "id": "add47282-228a-4a8d-ba7e-e4a120436da8",
   "metadata": {},
   "source": [
    "The condition number $\\kappa(A) = ||A||\\cdot||A^-1||$ of a matrix represents how sensitive a solution $x$ to the linear system $Ax=b$ is based on perturbations in $b$. In other words, the condition number represents how errors in representing $b$ (i.e. floating point errors) will be amplified during a solver such as Gaussian elimination. Here, the condition number is extremely large: approximately $3.0\\times 10^{17}$."
   ]
  },
  {
   "cell_type": "code",
   "execution_count": 151,
   "id": "72a12cfe-4eb2-40df-9490-090967a3f167",
   "metadata": {},
   "outputs": [
    {
     "data": {
      "text/plain": [
       "2.777622470579221e+17"
      ]
     },
     "execution_count": 151,
     "metadata": {},
     "output_type": "execute_result"
    }
   ],
   "source": [
    "np.linalg.cond(A)"
   ]
  },
  {
   "cell_type": "markdown",
   "id": "1b651dd2-6ad2-4f42-a686-4b8f50d15f66",
   "metadata": {},
   "source": [
    "We have seen in previous lectures that the floating point error has relative magnitude of `1e-16` for 64-bit floating point systems. Thus, the floating point error here is actually smaller than the condition number, so the relative error of the calculation will be greater than 1 (assuming that the solution and intermediate calculations don't have exact floating point representations)."
   ]
  },
  {
   "cell_type": "markdown",
   "id": "d3dec722-2beb-4091-a49e-630f589764d7",
   "metadata": {},
   "source": [
    "### Question 4\n",
    "Based on the $LU$-factorisation code given in lectures, write your own function which\n",
    "implements Gaussian Elimination with partial pivoting (i.e. produces the factorisation $PA = LU$). Your\n",
    "function should produce $P$, $L$ and $U$ as dense $n \\times n$ matrices. For an example linear system of your own, show that your function gives the same answer as `scipy.linalg.lu`. "
   ]
  },
  {
   "cell_type": "markdown",
   "id": "8c33e153-dd3f-4b67-87d5-08db6897f404",
   "metadata": {},
   "source": [
    "First, we'll define our linear system through `A` and `b`. Note that `A` has a large condition number."
   ]
  },
  {
   "cell_type": "code",
   "execution_count": 165,
   "id": "e9ca499e-c9b1-4eff-9fce-d4e6a65da8b4",
   "metadata": {},
   "outputs": [
    {
     "data": {
      "text/plain": [
       "210.48648047083495"
      ]
     },
     "execution_count": 165,
     "metadata": {},
     "output_type": "execute_result"
    }
   ],
   "source": [
    "A = np.array([[1,2,3],\n",
    "              [4,5,6],\n",
    "              [7,4,99]])\n",
    "b = np.array([0.1, 0.2, 0.3])\n",
    "np.linalg.cond(A)"
   ]
  },
  {
   "cell_type": "markdown",
   "id": "28dcdfcd-83e7-4747-b0f1-a7aa264188e9",
   "metadata": {},
   "source": [
    "Next, we implement LU decomposition using partial pivoting. Note that this returns the system $PA = LU$."
   ]
  },
  {
   "cell_type": "code",
   "execution_count": 166,
   "id": "afd7a33b-e55b-474b-85fe-c822749deec5",
   "metadata": {},
   "outputs": [],
   "source": [
    "def lu_factorisation(A):\n",
    "    n, m = A.shape\n",
    "    P, L = np.eye(n), np.eye(n)\n",
    "    U = A.copy()\n",
    "    PF = np.eye(n)\n",
    "    LF = np.zeros((n,n))\n",
    "    for k in range(n - 1):\n",
    "        index = np.argmax(abs(U[k:,k]))\n",
    "        index = index + k \n",
    "        if index != k:\n",
    "            P = np.eye(n)\n",
    "            P[[index,k],k:n] = P[[k,index],k:n]\n",
    "            U[[index,k],k:n] = U[[k,index],k:n] \n",
    "            PF = np.dot(P,PF)\n",
    "            LF = np.dot(P,LF)\n",
    "        L = np.eye(n)\n",
    "        for j in range(k+1,n):\n",
    "            L[j,k] = -(U[j,k] / U[k,k])\n",
    "            LF[j,k] = (U[j,k] / U[k,k])\n",
    "        U = np.dot(L,U)\n",
    "    np.fill_diagonal(LF, 1)\n",
    "    return LF, U, PF"
   ]
  },
  {
   "cell_type": "markdown",
   "id": "40d540a8-861f-47bc-bbd2-e6319cdba953",
   "metadata": {},
   "source": [
    "Using both our implementation and `scipy.linalg.lu` to factorise `A`, we check that both methods give the same $LU$ factorisation:"
   ]
  },
  {
   "cell_type": "code",
   "execution_count": 167,
   "id": "0beaccd1-b23e-4f46-be4d-7685e204d6b7",
   "metadata": {},
   "outputs": [
    {
     "data": {
      "text/plain": [
       "(array([[ 7.,  4., 99.],\n",
       "        [ 4.,  5.,  6.],\n",
       "        [ 1.,  2.,  3.]]),\n",
       " array([[ 7.,  4., 99.],\n",
       "        [ 4.,  5.,  6.],\n",
       "        [ 1.,  2.,  3.]]))"
      ]
     },
     "execution_count": 167,
     "metadata": {},
     "output_type": "execute_result"
    }
   ],
   "source": [
    "import scipy.linalg as linalg\n",
    "\n",
    "# solve for LU using our function \n",
    "L, U, P = lu_factorisation(A)\n",
    "LU_imp = L @ U\n",
    "# solve for LU using scipy\n",
    "P, L, U = linalg.lu(A)\n",
    "LU_scipy = L @ U\n",
    "# examine the two calculations\n",
    "LU_imp, LU_scipy"
   ]
  },
  {
   "cell_type": "markdown",
   "id": "5df9ead2-46f9-4d07-9825-c07676596d0f",
   "metadata": {},
   "source": [
    "If we had a larger matrix with more decimal points, we could use the following code to check if the representations were the same."
   ]
  },
  {
   "cell_type": "code",
   "execution_count": 160,
   "id": "45b75f21-6c90-4521-b53a-e36bd8da913e",
   "metadata": {},
   "outputs": [
    {
     "data": {
      "text/plain": [
       "True"
      ]
     },
     "execution_count": 160,
     "metadata": {},
     "output_type": "execute_result"
    }
   ],
   "source": [
    "np.allclose(LU_imp, LU_scipy)"
   ]
  },
  {
   "cell_type": "markdown",
   "id": "ce33ded0-01d0-47f2-83fd-0adc75f627da",
   "metadata": {},
   "source": [
    "### Question 5\n",
    "Write your own function which, given a pre-computed factorisation $PA = LU$, solves\n",
    "a linear system $Ax = b$. For the same example linear system as the previous question, show that your\n",
    "function gives the same answer as a built-in NumPy/SciPy routine. "
   ]
  },
  {
   "cell_type": "markdown",
   "id": "0ac2bd44-57fc-4f6c-bc1a-e1ff70ffdf17",
   "metadata": {},
   "source": [
    "Again, we first write a function to generate the linear system we need to solve."
   ]
  },
  {
   "cell_type": "code",
   "execution_count": null,
   "id": "e7a96a59-e313-46d9-aa1d-5d0f3032d7eb",
   "metadata": {},
   "outputs": [],
   "source": [
    "def A_b():\n",
    "    A = np.array([[1,2,3],\n",
    "              [4,5,6],\n",
    "              [7,4,99]])\n",
    "    b = np.array([0.1, 0.2, 0.3])\n",
    "    return A, b"
   ]
  },
  {
   "cell_type": "markdown",
   "id": "b0554d1b-a30c-4d8a-ac69-8e7d9ed5e7f2",
   "metadata": {},
   "source": [
    "We now implement forward and backward substitution to solve $Ly=b$ and then $Ux=y$, which gives us our solution $x$:"
   ]
  },
  {
   "cell_type": "code",
   "execution_count": 169,
   "id": "78f757f8-c2da-4f95-88b7-1d065c8a017f",
   "metadata": {},
   "outputs": [],
   "source": [
    "def forward_substitution(L, b):\n",
    "    for i in range(L.shape[0]): \n",
    "        for j in range(i): b[i] -= L[i,j]*b[j]\n",
    "    return b\n",
    "\n",
    "def backwards_substitution(U, y):\n",
    "    for i in range(U.shape[0]-1,-1,-1): \n",
    "        for j in range(i+1, U.shape[1]): y[i] -= U[i,j]*y[j]\n",
    "        y[i] = y[i]/U[i,i]\n",
    "    return y\n",
    "\n",
    "def lu_solve(L, U, P):\n",
    "    # permute the vector b\n",
    "    Pb = P @ b\n",
    "    # solve Ly = Pb\n",
    "    y = forward_substitution(L, Pb)\n",
    "    # solve Ux = y\n",
    "    x = backwards_substitution(U, y)\n",
    "    return x"
   ]
  },
  {
   "cell_type": "code",
   "execution_count": 170,
   "id": "9741e320-95d8-423e-a1bf-2ee51abe56d8",
   "metadata": {},
   "outputs": [
    {
     "data": {
      "text/plain": [
       "array([-0.03061224,  0.06122449,  0.00272109])"
      ]
     },
     "execution_count": 170,
     "metadata": {},
     "output_type": "execute_result"
    }
   ],
   "source": [
    "A, b = A_b() # define A and b matrices\n",
    "L, U, P = lu_factorisation(A) # use previous function to get LU factorisation\n",
    "x_hat = lu_solve(L, U, P) # use our new function to get solution\n",
    "x_hat"
   ]
  },
  {
   "cell_type": "markdown",
   "id": "bea7a08b-43e2-495f-9b45-b920c7f42d6b",
   "metadata": {},
   "source": [
    "We can compare our solution with Numpy's `linalg.solve` method to check we get the same answer on the poorly conditioned matrix:"
   ]
  },
  {
   "cell_type": "code",
   "execution_count": 171,
   "id": "8ea6b786-0591-4fe4-b354-e546c4938f61",
   "metadata": {},
   "outputs": [
    {
     "data": {
      "text/plain": [
       "True"
      ]
     },
     "execution_count": 171,
     "metadata": {},
     "output_type": "execute_result"
    }
   ],
   "source": [
    "x = np.linalg.solve(A, b)\n",
    "np.allclose(x, x_hat)"
   ]
  },
  {
   "cell_type": "markdown",
   "id": "6de8eff6-8059-4060-81f6-52831a0d369a",
   "metadata": {},
   "source": [
    "### Question 6\n",
    "Using the above code, check that $A = QR$ and $Q^TQ = I$, at least up to rounding error. Do\n",
    "not just print both sides of the equality, use matrix norms to print out summary information (this approach is necessary for large matrices). "
   ]
  },
  {
   "cell_type": "code",
   "execution_count": 172,
   "id": "7fec3f90-080c-43dd-b932-9f7684f7407d",
   "metadata": {},
   "outputs": [],
   "source": [
    "# Create an example 6*6 linear system (related to elastic membranes)\n",
    "n = 6\n",
    "A = np.diag(np.ones(n-1), -1) - 2*np.diag(np.ones(n)) + np.diag(np.ones(n-1), 1)\n",
    "b = np.ones(n)\n",
    "\n",
    "# Calculate QR factorisation\n",
    "Q, R = np.linalg.qr(A)\n",
    "\n",
    "# Solve a linear system using a QR factorisation\n",
    "x = linalg.solve_triangular(R, Q.T @ b, lower=False)"
   ]
  },
  {
   "cell_type": "markdown",
   "id": "16f9f652-7f93-483f-a3bf-b3343c5c717c",
   "metadata": {},
   "source": [
    "First, we check that $A=QR$. We check that (1) the norm of $A-QR$ is very small, and (2) that `np.allclose(A, Q@R)` is true.  "
   ]
  },
  {
   "cell_type": "code",
   "execution_count": 173,
   "id": "74a7f40b-9820-4498-a004-19eba152d8e1",
   "metadata": {},
   "outputs": [
    {
     "data": {
      "text/plain": [
       "(1.025173141792212e-15, True)"
      ]
     },
     "execution_count": 173,
     "metadata": {},
     "output_type": "execute_result"
    }
   ],
   "source": [
    "# check that A = QR\n",
    "np.linalg.norm(A - (Q @ R)), np.allclose(A, Q@R)"
   ]
  },
  {
   "cell_type": "markdown",
   "id": "cad0c1f9-8153-4df5-995e-9b94f7b3a7d8",
   "metadata": {},
   "source": [
    "We do the same for the orthogonality check on `Q`, which is equivalent to the condition that $Q^TQ=I$. "
   ]
  },
  {
   "cell_type": "code",
   "execution_count": 174,
   "id": "647a8e0a-2cea-4ced-98c8-22ea7143031a",
   "metadata": {},
   "outputs": [
    {
     "data": {
      "text/plain": [
       "8.595270366119635e-16"
      ]
     },
     "execution_count": 174,
     "metadata": {},
     "output_type": "execute_result"
    }
   ],
   "source": [
    "# check that Q is orthogonal\n",
    "np.linalg.norm(np.eye(n) - (np.transpose(Q) @ Q))"
   ]
  },
  {
   "cell_type": "markdown",
   "id": "0cdbf982-ecb5-4bdb-b400-a9e32db0a4f6",
   "metadata": {},
   "source": [
    "## Iterative linear solvers"
   ]
  },
  {
   "cell_type": "markdown",
   "id": "1606d202-6a02-4cad-93a9-6278c6a081f6",
   "metadata": {},
   "source": [
    "### Question 7\n",
    "Complete the above code to get an implementation of CG (based on ‘classic’ version\n",
    "in Algorithm 2 of the lecture slides). Make sure you only interact with $A$ via performing exactly one\n",
    "matrix-vector product in each iteration. The below code can be use to test your `conjugate_gradient`\n",
    "function by plotting the norms of the residuals $||r_k||$ for a test symmetric positive definite system. Using the below test code for one choice of $n$, verify that CG converges in at most $n$ iterations for an $n \\times n$ matrix. "
   ]
  },
  {
   "cell_type": "code",
   "execution_count": 175,
   "id": "48301a58-54e7-451f-8890-978ecdb6fa52",
   "metadata": {},
   "outputs": [],
   "source": [
    "def conjugate_gradient(A, b, x0, tol):\n",
    "    # Initialise variables\n",
    "    x = x0.copy()\n",
    "    r = b - np.dot(A, x)\n",
    "    d = r\n",
    "    \n",
    "    # Run the main CG loop\n",
    "    k = 0\n",
    "    residual_norm_history = []\n",
    "    residual_norm_history.append(np.linalg.norm(r))\n",
    "    while k < len(b) and np.linalg.norm(r) >= tol: # stop when k=n or small residual\n",
    "        # set step length\n",
    "        A_d = np.dot(A, d)\n",
    "        r_r = np.dot(r, r)\n",
    "        alpha = r_r / np.dot(d, A_d)\n",
    "        # calculate new iterate\n",
    "        x = x + alpha * d\n",
    "        # calculate new residual\n",
    "        r = r - alpha * A_d\n",
    "        # calculate new beta\n",
    "        beta = np.dot(r, r) / r_r\n",
    "        # calculate new search direction\n",
    "        d = r + beta * d\n",
    "        # Store the norm of the current residual\n",
    "        residual_norm_history.append(np.linalg.norm(r))\n",
    "        k += 1\n",
    "    return x, np.array(residual_norm_history)"
   ]
  },
  {
   "cell_type": "markdown",
   "id": "c6f09225-ba7a-457b-8fef-62631a250b63",
   "metadata": {},
   "source": [
    "We now plot the residuals at each iteration and see if we converge on a solution."
   ]
  },
  {
   "cell_type": "code",
   "execution_count": 7,
   "id": "488faaa3-91c7-4652-bfb9-ede5ebb654f1",
   "metadata": {},
   "outputs": [
    {
     "name": "stdout",
     "output_type": "stream",
     "text": [
      "Final residual ||Ax-b|| = 4.7265781317840344e-14\n"
     ]
    },
    {
     "data": {
      "image/png": "[encoded data removed]",
      "text/plain": [
       "<Figure size 432x288 with 1 Axes>"
      ]
     },
     "metadata": {
      "needs_background": "light"
     },
     "output_type": "display_data"
    }
   ],
   "source": [
    "import matplotlib.pyplot as plt\n",
    "import numpy as np\n",
    "\n",
    "# Create example symmetric positive definite linear system\n",
    "n = 10\n",
    "A = -np.diag(np.ones(n-1), -1) + 2*np.diag(np.ones(n)) - np.diag(np.ones(n-1), 1)\n",
    "b = np.arange(n)\n",
    "x0 = np.zeros((n,))\n",
    "\n",
    "# Solve with CG\n",
    "x, resids = conjugate_gradient(A, b, x0, tol=1e-5)\n",
    "print(\"Final residual ||Ax-b|| =\", np.linalg.norm(A@x - b))\n",
    "\n",
    "# Plot decrease in residuals\n",
    "plt.figure(1)\n",
    "plt.clf()\n",
    "plt.semilogy(resids, 'o-')\n",
    "plt.grid()\n",
    "plt.xlabel('k')\n",
    "plt.ylabel('||rk||')\n",
    "plt.show()"
   ]
  },
  {
   "cell_type": "markdown",
   "id": "0ab69061-48d3-4d55-830b-f1fdd419a9a1",
   "metadata": {},
   "source": [
    "We see that the matrix $A \\in \\mathbb{R}^n = \\mathbb{R}^{10}$, and that it converges on the 10th iteration (the final residual is more than close enough to the machine epsilon given our tolerance `1e-5`, suggesting our errors are due to floating point arithmetic rather than failure to converge)."
   ]
  },
  {
   "cell_type": "code",
   "execution_count": 10,
   "id": "05cc71e6-fda8-4af5-a5b1-39c99e594705",
   "metadata": {},
   "outputs": [
    {
     "data": {
      "text/plain": [
       "2.220446049250313e-16"
      ]
     },
     "execution_count": 10,
     "metadata": {},
     "output_type": "execute_result"
    }
   ],
   "source": [
    "import sys\n",
    "epsilon=sys.float_info.epsilon\n",
    "epsilon"
   ]
  },
  {
   "cell_type": "markdown",
   "id": "a69060d3-341b-4104-b7e8-dbd13bb1aa04",
   "metadata": {},
   "source": [
    "### Question 8\n",
    "Construct two $20 \\times 20$ symmetric positive definite matrices with condition number $\\kappa(A) = 10^5$: one with all eigenvalues distinct, and one with exactly 5 distinct eigenvalues (each with multiplicity 4). You will need to explain how you know you have satisfied these requirements. Compare the performance of CG on both matrices. "
   ]
  },
  {
   "cell_type": "markdown",
   "id": "1e4439d4-f0da-4464-aa7c-dd6dff0522b5",
   "metadata": {},
   "source": [
    "First, we use the provided code to generate our linear system, namely the matrix $A$, the result of the calculation $b$, and the starting value for CG `x0`:"
   ]
  },
  {
   "cell_type": "code",
   "execution_count": 180,
   "id": "651ac902-ee75-4fb4-95f3-ca65d13084e1",
   "metadata": {},
   "outputs": [],
   "source": [
    "# Set the random number generator (for reproducibility)\n",
    "np.random.seed(0)\n",
    "\n",
    "def generate_matrix(evals, n=20):\n",
    "    # Build a random n*n orthogonal matrix of eigenvectors\n",
    "    n = 20\n",
    "    Q = np.linalg.qr(np.random.rand(n, n))[0]\n",
    "\n",
    "    # Construct symmetric positive definite linear system with desired eigenvalues\n",
    "    A = Q.T @ np.diag(evals) @ Q\n",
    "    b = np.arange(n)\n",
    "    x0 = np.zeros((n,))\n",
    "    \n",
    "    return A, b, x0"
   ]
  },
  {
   "cell_type": "markdown",
   "id": "752df3b7-a1ca-4532-96be-87f0d774f0ae",
   "metadata": {},
   "source": [
    "We also wrap the residual plotting code in a function for ease of use:"
   ]
  },
  {
   "cell_type": "code",
   "execution_count": 176,
   "id": "3c4b9860-5b7d-4e5d-8ff6-c0d9995fee66",
   "metadata": {},
   "outputs": [],
   "source": [
    "def plot_residuals(A, x, b, resids):\n",
    "    print(\"Final residual ||Ax-b|| =\", np.linalg.norm(A@x - b))\n",
    "    # Plot decrease in residuals\n",
    "    plt.figure(1)\n",
    "    plt.clf()\n",
    "    plt.semilogy(resids, 'o-')\n",
    "    plt.grid()\n",
    "    plt.xlabel('k')\n",
    "    plt.ylabel('||rk||')\n",
    "    plt.show()"
   ]
  },
  {
   "cell_type": "markdown",
   "id": "aa761b43-d97a-4f80-9dbb-a83d67827487",
   "metadata": {},
   "source": [
    "Finally, we use the conjugate gradient function to find a solution, and plot how it converges. Note that we know that our condition number for the matrix will be $\\kappa(A)=10^5$ because the condition number can be shown to be\n",
    "$$ \\frac{\\text{max } \\lambda_i}{\\text{min }\\lambda_j} $$\n",
    "for a symmetric positive definite matrix $A$."
   ]
  },
  {
   "cell_type": "code",
   "execution_count": 202,
   "id": "80f094cb-1119-418f-b56d-4191d78f3676",
   "metadata": {},
   "outputs": [
    {
     "name": "stdout",
     "output_type": "stream",
     "text": [
      "Final residual ||Ax-b|| = 0.0020604426909161724\n"
     ]
    },
    {
     "data": {
      "image/png": "[encoded data removed]",
      "text/plain": [
       "<Figure size 432x288 with 1 Axes>"
      ]
     },
     "metadata": {
      "needs_background": "light"
     },
     "output_type": "display_data"
    }
   ],
   "source": [
    "# Desired set of eigenvalues (need all > 0 for positive definite matrices)\n",
    "# we do a matrix with distinct eigenvalues first\n",
    "np.random.seed(0)\n",
    "n=20\n",
    "evals = np.arange(1, n+1)\n",
    "evals[-1] = 10**5\n",
    "A, b, x0 = generate_matrix(evals, n)\n",
    "x, resids = conjugate_gradient(A, b, x0, tol=1e-5)\n",
    "plot_residuals(A, x, b, resids)"
   ]
  },
  {
   "cell_type": "markdown",
   "id": "7a7f81b8-2d14-49e1-97b8-39d36b66e856",
   "metadata": {},
   "source": [
    "From the plot, CG converges in 20 iterations (by converge we mean reach an answer that has an error less than our tolerance). As a sanity check, we use the result above to ensure `max(evals)/min(evals)` gives the same result as using Numpy to compute the condition number of `A`:"
   ]
  },
  {
   "cell_type": "code",
   "execution_count": 205,
   "id": "45a276a7-4270-4b90-b422-9a8442bbbc4b",
   "metadata": {},
   "outputs": [
    {
     "data": {
      "text/plain": [
       "True"
      ]
     },
     "execution_count": 205,
     "metadata": {},
     "output_type": "execute_result"
    }
   ],
   "source": [
    "eigenvalue_cond = max(evals)/min(evals)\n",
    "actual_cond = np.linalg.cond(A)\n",
    "np.allclose(eigenvalue_cond, actual_cond)"
   ]
  },
  {
   "cell_type": "markdown",
   "id": "351e17f4-25c5-4825-ad43-945b47b5b1d4",
   "metadata": {},
   "source": [
    "Perfect, the condition numbers match. This method gives us a symmetric positive definite matrix $A$ with condition number 105. We now repeat the process for 5 distinct eigenvalues with multiplicity 4:"
   ]
  },
  {
   "cell_type": "code",
   "execution_count": 206,
   "id": "14f46da8-827b-4228-8d43-1339884fcfec",
   "metadata": {},
   "outputs": [
    {
     "name": "stdout",
     "output_type": "stream",
     "text": [
      "Final residual ||Ax-b|| = 7.172945774832065e-11\n"
     ]
    },
    {
     "data": {
      "image/png": "[encoded data removed]",
      "text/plain": [
       "<Figure size 432x288 with 1 Axes>"
      ]
     },
     "metadata": {
      "needs_background": "light"
     },
     "output_type": "display_data"
    }
   ],
   "source": [
    "# we now do a matrix with 5 distinct eigenvalues, each with multiplicity 4\n",
    "np.random.seed(0)\n",
    "evals = np.array([1]*4 + [2]*4 + [3]*4 + [4]*4 + [10**5]*4)\n",
    "A, b, x0 = generate_matrix(evals)\n",
    "x, resids = conjugate_gradient(A, b, x0, tol=1e-5)\n",
    "plot_residuals(A, x, b, resids)"
   ]
  },
  {
   "cell_type": "markdown",
   "id": "68290bc0-d38f-484d-b3c4-aa5dd355ba30",
   "metadata": {},
   "source": [
    "This should theoretically converge in 5 steps, since there are 5 distinct eigenvalues. However, we converge in 6 iterations here. This is likely due to floating point errors compounding at each stage of the calculation, or possibly the large condition number. "
   ]
  },
  {
   "cell_type": "markdown",
   "id": "d212c491-647c-4b56-9bb6-86356098fcc9",
   "metadata": {},
   "source": [
    "## Sparse matrices"
   ]
  },
  {
   "cell_type": "markdown",
   "id": "6f2c6cd1-a971-49a8-b9e3-2c547f91d650",
   "metadata": {},
   "source": [
    "## Question 9\n",
    "Write code which generates the below $n \\times n$ symmetric positive definite matrix $A$ (where $n$ can be changed to any value) as a sparse matrix in CSR format. For $n = 5$ check your code by converting $A$ to a dense matrix and printing it out. "
   ]
  },
  {
   "cell_type": "code",
   "execution_count": 219,
   "id": "1441cad4-158a-4b01-9213-d6ccf6697ebe",
   "metadata": {},
   "outputs": [
    {
     "name": "stdout",
     "output_type": "stream",
     "text": [
      "[[ 3.5        -1.33333333  0.08333333  0.          0.        ]\n",
      " [-1.33333333  3.5        -1.33333333  0.08333333  0.        ]\n",
      " [ 0.08333333 -1.33333333  3.5        -1.33333333  0.08333333]\n",
      " [ 0.          0.08333333 -1.33333333  3.5        -1.33333333]\n",
      " [ 0.          0.          0.08333333 -1.33333333  3.5       ]]\n"
     ]
    }
   ],
   "source": [
    "from scipy.sparse import diags\n",
    "\n",
    "def create_sparse(n):\n",
    "    A = [[7/2]*n, [-4/3]*(n-1), [-4/3]*(n-1), [1/12]*(n-2), [1/12]*(n-2)]\n",
    "    return diags(A, [0, -1, 1, -2, 2])\n",
    "\n",
    "n = 5\n",
    "A = create_sparse(n)\n",
    "A_as_dense = A.toarray()\n",
    "print(A_as_dense)"
   ]
  },
  {
   "cell_type": "markdown",
   "id": "c962c88e-60e2-4a86-8c9c-8cdeff11fa39",
   "metadata": {},
   "source": [
    "This matches the matrix $A$ given in the lab booklet."
   ]
  },
  {
   "cell_type": "markdown",
   "id": "0aadfcf7-71c6-4833-a169-299a25788ae5",
   "metadata": {
    "tags": []
   },
   "source": [
    "### Question 10\n",
    "With `b=np.arange(n)`, compare the time taken to solve $Ax = b$ with `spsolve` and `np.linalg.solve` for $n = 10, 100, 1000$ and comment on your results. For `np.linalg.solve`, you\n",
    "will have to first convert $A$ to a dense matrix (do not count this towards the time taken)."
   ]
  },
  {
   "cell_type": "code",
   "execution_count": 236,
   "id": "aab51daa-4c8e-442b-be27-eb3ac4aa88ed",
   "metadata": {},
   "outputs": [],
   "source": [
    "import time\n",
    "import warnings\n",
    "warnings.filterwarnings(\"ignore\")\n",
    "\n",
    "def measure_time(n, return_value=False, print_value=True):\n",
    "    b = np.arange(n)\n",
    "    A = create_sparse(n)\n",
    "    \n",
    "    # measure how long it takes to solve with scipy\n",
    "    t_start = time.time()\n",
    "    # run solver\n",
    "    x = spsolve(A, b)\n",
    "    # end timer\n",
    "    t_end = time.time()\n",
    "    time_taken_scipy = t_end - t_start\n",
    "    \n",
    "    # measure how long it takes to solve with numpy\n",
    "    A_dense = A.toarray()\n",
    "    t_start = time.time()\n",
    "    x = np.linalg.solve(A_dense, b)\n",
    "    t_end = time.time()\n",
    "    time_taken_numpy = t_end - t_start\n",
    "    \n",
    "    if print_value:\n",
    "        print(f\"Numpy total seconds taken (n={n}) = {time_taken_numpy}\")\n",
    "        print(f\"Scipy total seconds taken (n={n}) = {time_taken_scipy}\")\n",
    "        print(f\"Scipy is {np.round(time_taken_numpy/time_taken_scipy, 4)} times faster.\")\n",
    "    \n",
    "    if return_value:\n",
    "        return time_taken_numpy/time_taken_scipy"
   ]
  },
  {
   "cell_type": "code",
   "execution_count": 237,
   "id": "fb4bd954-fcd5-4d1f-8764-49082bb165cb",
   "metadata": {},
   "outputs": [
    {
     "name": "stdout",
     "output_type": "stream",
     "text": [
      "Numpy total seconds taken (n=10) = 0.00010800361633300781\n",
      "Scipy total seconds taken (n=10) = 0.0036118030548095703\n",
      "Scipy is 0.0299 times faster.\n"
     ]
    }
   ],
   "source": [
    "measure_time(10)"
   ]
  },
  {
   "cell_type": "code",
   "execution_count": 238,
   "id": "57d86623-ee4a-4623-8954-4ca311a37ef6",
   "metadata": {},
   "outputs": [
    {
     "name": "stdout",
     "output_type": "stream",
     "text": [
      "Numpy total seconds taken (n=100) = 0.016408205032348633\n",
      "Scipy total seconds taken (n=100) = 0.002828836441040039\n",
      "Scipy is 5.8003 times faster.\n"
     ]
    }
   ],
   "source": [
    "measure_time(100)"
   ]
  },
  {
   "cell_type": "code",
   "execution_count": 239,
   "id": "f8e4bb5c-5bd5-409a-97ee-7916360cebc7",
   "metadata": {},
   "outputs": [
    {
     "name": "stdout",
     "output_type": "stream",
     "text": [
      "Numpy total seconds taken (n=1000) = 0.04967188835144043\n",
      "Scipy total seconds taken (n=1000) = 0.0026178359985351562\n",
      "Scipy is 18.9744 times faster.\n"
     ]
    }
   ],
   "source": [
    "measure_time(1000)"
   ]
  },
  {
   "cell_type": "markdown",
   "id": "85d5cce6-b1d3-44c3-9fc7-210aba2d8ea0",
   "metadata": {},
   "source": [
    "These results are interesting. It appears that for small sparse matrices (i.e. $n=10$), Numpy is faster at solving the linear system. However, as the size of the matrix increases, Scipy begins to become exponentially faster than Numpy. This intuitively makes sense: Numpy is optimised on a C++ backend for matrix multiplication using vectorisation and Einstein summation. This is likely going to beat Scipy's sparse solver when the sparsity of the matrix (i.e. the ratio of zero to non-zero entries) is small, because Scipy is using a sparse solver to solve a relatively dense linear system. However, as the sparsity increases, Numpy has to deal with more and more zero entries whereas Scipy's sparse solver obviously ignores them.\n",
    "\n",
    "We can plot the difference in speed between Numpy and Scipy as $n$ increases:"
   ]
  },
  {
   "cell_type": "code",
   "execution_count": 245,
   "id": "d96ec697-e044-497e-a927-28bb5741cb1c",
   "metadata": {},
   "outputs": [],
   "source": [
    "t = np.arange(10, 2*10**3)\n",
    "ratios = []\n",
    "for n in t:\n",
    "    ratios.append(measure_time(n, return_value=True, \n",
    "                               print_value=False))"
   ]
  },
  {
   "cell_type": "code",
   "execution_count": 278,
   "id": "51ac494f-5e9c-454c-b217-86c0165bbc4d",
   "metadata": {},
   "outputs": [],
   "source": [
    "from scipy import optimize\n",
    "\n",
    "# exponential best fit\n",
    "p = np.polyfit(t, np.log(ratios), 1, w=np.sqrt(ratios))\n",
    "# convert the polynomial back into an exponential\n",
    "a, b = np.exp(p[1]), p[0]\n",
    "t_fitted = np.linspace(np.min(t), np.max(t), 100)\n",
    "ratios_fitted = a * np.exp(b * t_fitted)"
   ]
  },
  {
   "cell_type": "code",
   "execution_count": 282,
   "id": "6d6dac84-a550-4425-9ee6-b678355c901d",
   "metadata": {},
   "outputs": [
    {
     "data": {
      "image/png": "[encoded data removed]",
      "text/plain": [
       "<Figure size 432x288 with 1 Axes>"
      ]
     },
     "metadata": {
      "needs_background": "light"
     },
     "output_type": "display_data"
    }
   ],
   "source": [
    "ax = plt.axes()\n",
    "ax.scatter(t, ratios, label='Raw data')\n",
    "ax.plot(t_fitted, ratios_fitted, 'k', label='Fitted curve', color=\"orange\")\n",
    "ax.set_title('Scipy vs Numpy solver for different matrix sizes')\n",
    "ax.set_ylabel('Scipy number of times faster')\n",
    "ax.set_ylim(0, 150)\n",
    "ax.set_xlabel('$n$ = matrix size')\n",
    "ax.legend();"
   ]
  },
  {
   "cell_type": "code",
   "execution_count": null,
   "id": "88bcb834-fd5b-461a-a533-d050cedf8566",
   "metadata": {},
   "outputs": [],
   "source": []
  }
 ],
 "metadata": {
  "kernelspec": {
   "display_name": "Python 3 (ipykernel)",
   "language": "python",
   "name": "python3"
  },
  "language_info": {
   "codemirror_mode": {
    "name": "ipython",
    "version": 3
   },
   "file_extension": ".py",
   "mimetype": "text/x-python",
   "name": "python",
   "nbconvert_exporter": "python",
   "pygments_lexer": "ipython3",
   "version": "3.9.7"
  }
 },
 "nbformat": 4,
 "nbformat_minor": 5
}
